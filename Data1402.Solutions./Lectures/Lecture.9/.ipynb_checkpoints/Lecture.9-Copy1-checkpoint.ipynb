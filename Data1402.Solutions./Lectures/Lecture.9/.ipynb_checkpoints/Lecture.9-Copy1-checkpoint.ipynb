{
 "cells": [
  {
   "cell_type": "markdown",
   "metadata": {},
   "source": [
    "# Lecture 9"
   ]
  },
  {
   "cell_type": "code",
   "execution_count": 1,
   "metadata": {},
   "outputs": [
    {
     "ename": "ModuleNotFoundError",
     "evalue": "No module named 'tabulate'",
     "output_type": "error",
     "traceback": [
      "\u001b[0;31m---------------------------------------------------------------------------\u001b[0m",
      "\u001b[0;31mModuleNotFoundError\u001b[0m                       Traceback (most recent call last)",
      "\u001b[0;32m<ipython-input-1-eeb3865e11a8>\u001b[0m in \u001b[0;36m<module>\u001b[0;34m\u001b[0m\n\u001b[1;32m      4\u001b[0m \u001b[0mget_ipython\u001b[0m\u001b[0;34m(\u001b[0m\u001b[0;34m)\u001b[0m\u001b[0;34m.\u001b[0m\u001b[0mrun_line_magic\u001b[0m\u001b[0;34m(\u001b[0m\u001b[0;34m'matplotlib'\u001b[0m\u001b[0;34m,\u001b[0m \u001b[0;34m'inline'\u001b[0m\u001b[0;34m)\u001b[0m\u001b[0;34m\u001b[0m\u001b[0;34m\u001b[0m\u001b[0m\n\u001b[1;32m      5\u001b[0m \u001b[0;32mfrom\u001b[0m \u001b[0mIPython\u001b[0m\u001b[0;34m.\u001b[0m\u001b[0mdisplay\u001b[0m \u001b[0;32mimport\u001b[0m \u001b[0mHTML\u001b[0m\u001b[0;34m,\u001b[0m \u001b[0mdisplay\u001b[0m\u001b[0;34m\u001b[0m\u001b[0;34m\u001b[0m\u001b[0m\n\u001b[0;32m----> 6\u001b[0;31m \u001b[0;32mimport\u001b[0m \u001b[0mtabulate\u001b[0m\u001b[0;34m\u001b[0m\u001b[0;34m\u001b[0m\u001b[0m\n\u001b[0m",
      "\u001b[0;31mModuleNotFoundError\u001b[0m: No module named 'tabulate'"
     ]
    }
   ],
   "source": [
    "import pandas as pd\n",
    "import numpy as np\n",
    "import matplotlib.pyplot as plt\n",
    "%matplotlib inline\n",
    "from IPython.display import HTML, display\n",
    "import tabulate"
   ]
  },
  {
   "cell_type": "markdown",
   "metadata": {},
   "source": [
    "## Setup for SUSY Dataset"
   ]
  },
  {
   "cell_type": "code",
   "execution_count": null,
   "metadata": {},
   "outputs": [],
   "source": [
    "VarNames=[\"signal\", \"l_1_pT\", \"l_1_eta\",\"l_1_phi\", \"l_2_pT\", \"l_2_eta\", \"l_2_phi\", \"MET\", \"MET_phi\", \"MET_rel\", \"axial_MET\", \"M_R\", \"M_TR_2\", \"R\", \"MT2\", \"S_R\", \"M_Delta_R\", \"dPhi_r_b\", \"cos_theta_r1\"]\n",
    "RawNames=[\"l_1_pT\", \"l_1_eta\",\"l_1_phi\", \"l_2_pT\", \"l_2_eta\", \"l_2_phi\", \"MET\", \"MET_phi\"]\n",
    "FeatureNames=list(set(VarNames[1:]).difference(RawNames))"
   ]
  },
  {
   "cell_type": "code",
   "execution_count": null,
   "metadata": {},
   "outputs": [],
   "source": [
    "filename=\"../Lecture.6/SUSY.csv\"\n",
    "df = pd.read_csv(filename, dtype='float64', names=VarNames)"
   ]
  },
  {
   "cell_type": "code",
   "execution_count": null,
   "metadata": {},
   "outputs": [],
   "source": [
    "df_sig=df[df.signal==1]\n",
    "df_bkg=df[df.signal==0]"
   ]
  },
  {
   "cell_type": "markdown",
   "metadata": {},
   "source": [
    "## FPR/TPR/ROC/AUC\n",
    "\n",
    "In previous lecture, we wrote a helper function to compute FPR and TPR as function of selection. We are considering 4 different selections:\n",
    "1. $x > x_c$\n",
    "2. $x < x_c$\n",
    "3. $|x - x_0| > x_c$\n",
    "4. $|x - x_0| < x_c$\n",
    "\n",
    "We so far have only implemented 1 in lecture:\n"
   ]
  },
  {
   "cell_type": "code",
   "execution_count": null,
   "metadata": {},
   "outputs": [],
   "source": [
    "def compute_rate(d,bins=100):\n",
    "    hist,bins_=np.histogram(d,bins=bins,density=True)\n",
    "    R = np.cumsum(hist[::-1])[::-1] * (bins_[1]-bins_[0])\n",
    "    return R,bins_"
   ]
  },
  {
   "cell_type": "markdown",
   "metadata": {},
   "source": [
    "Let's remind ourselves how to use/plot this function:"
   ]
  },
  {
   "cell_type": "code",
   "execution_count": null,
   "metadata": {},
   "outputs": [],
   "source": [
    "TPR,bins=compute_rate(df_sig[\"M_TR_2\"])\n",
    "FPR,bins=compute_rate(df_bkg[\"M_TR_2\"],bins=bins)\n",
    "\n",
    "plt.plot(bins[:-1],TPR,label=\"TPR\")\n",
    "plt.plot(bins[:-1],FPR,label=\"FPR\")\n",
    "plt.legend()\n"
   ]
  },
  {
   "cell_type": "markdown",
   "metadata": {},
   "source": [
    "### ROC\n",
    "Creating a ROC curve is as simple as ploting FPR vs TPR. We'll add a line from (0,0) to (1,1) to represent a bad ROC curve. "
   ]
  },
  {
   "cell_type": "code",
   "execution_count": null,
   "metadata": {},
   "outputs": [],
   "source": [
    "plt.plot(FPR,TPR)\n",
    "plt.xlabel(\"FPR\")\n",
    "plt.ylabel(\"TPR\")\n",
    "plt.plot([0,1],[0,1])\n"
   ]
  },
  {
   "cell_type": "markdown",
   "metadata": {},
   "source": [
    "Note that while the curve looks smooth, it's really not:"
   ]
  },
  {
   "cell_type": "code",
   "execution_count": null,
   "metadata": {},
   "outputs": [],
   "source": [
    "plt.scatter(FPR,TPR)"
   ]
  },
  {
   "cell_type": "markdown",
   "metadata": {},
   "source": [
    "And it's drawn from top right to bottom left:"
   ]
  },
  {
   "cell_type": "code",
   "execution_count": null,
   "metadata": {},
   "outputs": [],
   "source": [
    "plt.scatter(FPR[:10],TPR[:10])"
   ]
  },
  {
   "cell_type": "markdown",
   "metadata": {},
   "source": [
    "### AUC\n",
    "\n",
    "The Area Under the Curve (AUC) is a reasonable assessment of how good a variable is in separating the two classes (signal/background). We can compute it using rectangles:"
   ]
  },
  {
   "cell_type": "code",
   "execution_count": null,
   "metadata": {},
   "outputs": [],
   "source": [
    "AUC = 0.\n",
    "for k in range(len(FPR)-1):\n",
    "    AUC+= (FPR[k] - FPR[k + 1]) * TPR[k]\n",
    "AUC"
   ]
  },
  {
   "cell_type": "markdown",
   "metadata": {},
   "source": [
    "But the rectangles aren't very precise. In this case, do they under or over estimate the area?\n",
    "\n",
    "Fairly easy to use trapezoids instead. The equation is:\n",
    "\n",
    "$$\n",
    "\\int_a^b f(x) dx = \\sum^N_{k=1} \\frac{f(x_{k-1}) + f(x_k)}{2} \\Delta x_k\n",
    "$$"
   ]
  },
  {
   "cell_type": "code",
   "execution_count": null,
   "metadata": {},
   "outputs": [],
   "source": [
    "AUC = 0.\n",
    "for k in range(len(FPR)-1):\n",
    "    AUC += (FPR[k] - FPR[k + 1]) * (TPR[k]+TPR[k+1])/2.\n",
    "AUC"
   ]
  },
  {
   "cell_type": "markdown",
   "metadata": {},
   "source": [
    "Instead of looping, we can tensor operations with `numpy`. First we need to know the size of the vector: "
   ]
  },
  {
   "cell_type": "code",
   "execution_count": 2,
   "metadata": {},
   "outputs": [
    {
     "ename": "NameError",
     "evalue": "name 'FPR' is not defined",
     "output_type": "error",
     "traceback": [
      "\u001b[0;31m---------------------------------------------------------------------------\u001b[0m",
      "\u001b[0;31mNameError\u001b[0m                                 Traceback (most recent call last)",
      "\u001b[0;32m<ipython-input-2-10bfa002efca>\u001b[0m in \u001b[0;36m<module>\u001b[0;34m\u001b[0m\n\u001b[0;32m----> 1\u001b[0;31m \u001b[0mFPR\u001b[0m\u001b[0;34m.\u001b[0m\u001b[0mshape\u001b[0m\u001b[0;34m\u001b[0m\u001b[0;34m\u001b[0m\u001b[0m\n\u001b[0m",
      "\u001b[0;31mNameError\u001b[0m: name 'FPR' is not defined"
     ]
    }
   ],
   "source": [
    "FPR.shape"
   ]
  },
  {
   "cell_type": "markdown",
   "metadata": {},
   "source": [
    "We can compute the difference easily:"
   ]
  },
  {
   "cell_type": "code",
   "execution_count": 3,
   "metadata": {},
   "outputs": [
    {
     "ename": "NameError",
     "evalue": "name 'FPR' is not defined",
     "output_type": "error",
     "traceback": [
      "\u001b[0;31m---------------------------------------------------------------------------\u001b[0m",
      "\u001b[0;31mNameError\u001b[0m                                 Traceback (most recent call last)",
      "\u001b[0;32m<ipython-input-3-cdff91fa47d0>\u001b[0m in \u001b[0;36m<module>\u001b[0;34m\u001b[0m\n\u001b[0;32m----> 1\u001b[0;31m \u001b[0mFPR\u001b[0m\u001b[0;34m[\u001b[0m\u001b[0;36m0\u001b[0m\u001b[0;34m:\u001b[0m\u001b[0;36m99\u001b[0m\u001b[0;34m]\u001b[0m\u001b[0;34m-\u001b[0m\u001b[0mFPR\u001b[0m\u001b[0;34m[\u001b[0m\u001b[0;36m1\u001b[0m\u001b[0;34m:\u001b[0m\u001b[0;36m100\u001b[0m\u001b[0;34m]\u001b[0m\u001b[0;34m\u001b[0m\u001b[0;34m\u001b[0m\u001b[0m\n\u001b[0m",
      "\u001b[0;31mNameError\u001b[0m: name 'FPR' is not defined"
     ]
    }
   ],
   "source": [
    "FPR[0:99]-FPR[1:100]"
   ]
  },
  {
   "cell_type": "markdown",
   "metadata": {},
   "source": [
    "Finally the AUC:"
   ]
  },
  {
   "cell_type": "code",
   "execution_count": 4,
   "metadata": {},
   "outputs": [
    {
     "ename": "NameError",
     "evalue": "name 'FPR' is not defined",
     "output_type": "error",
     "traceback": [
      "\u001b[0;31m---------------------------------------------------------------------------\u001b[0m",
      "\u001b[0;31mNameError\u001b[0m                                 Traceback (most recent call last)",
      "\u001b[0;32m<ipython-input-4-9f38b2f17073>\u001b[0m in \u001b[0;36m<module>\u001b[0;34m\u001b[0m\n\u001b[0;32m----> 1\u001b[0;31m \u001b[0mnp\u001b[0m\u001b[0;34m.\u001b[0m\u001b[0msum\u001b[0m\u001b[0;34m(\u001b[0m\u001b[0;34m(\u001b[0m\u001b[0mFPR\u001b[0m\u001b[0;34m[\u001b[0m\u001b[0;36m0\u001b[0m\u001b[0;34m:\u001b[0m\u001b[0;36m99\u001b[0m\u001b[0;34m]\u001b[0m\u001b[0;34m-\u001b[0m\u001b[0mFPR\u001b[0m\u001b[0;34m[\u001b[0m\u001b[0;36m1\u001b[0m\u001b[0;34m:\u001b[0m\u001b[0;36m100\u001b[0m\u001b[0;34m]\u001b[0m\u001b[0;34m)\u001b[0m \u001b[0;34m*\u001b[0m \u001b[0;34m(\u001b[0m\u001b[0mTPR\u001b[0m\u001b[0;34m[\u001b[0m\u001b[0;36m0\u001b[0m\u001b[0;34m:\u001b[0m\u001b[0;36m99\u001b[0m\u001b[0;34m]\u001b[0m\u001b[0;34m+\u001b[0m\u001b[0mTPR\u001b[0m\u001b[0;34m[\u001b[0m\u001b[0;36m1\u001b[0m\u001b[0;34m:\u001b[0m\u001b[0;36m100\u001b[0m\u001b[0;34m]\u001b[0m\u001b[0;34m)\u001b[0m\u001b[0;34m/\u001b[0m\u001b[0;36m2\u001b[0m\u001b[0;34m)\u001b[0m\u001b[0;34m\u001b[0m\u001b[0;34m\u001b[0m\u001b[0m\n\u001b[0m",
      "\u001b[0;31mNameError\u001b[0m: name 'FPR' is not defined"
     ]
    }
   ],
   "source": [
    "np.sum((FPR[0:99]-FPR[1:100]) * (TPR[0:99]+TPR[1:100])/2)"
   ]
  },
  {
   "cell_type": "markdown",
   "metadata": {},
   "source": [
    "Now lets wrap it up in a function:"
   ]
  },
  {
   "cell_type": "code",
   "execution_count": 5,
   "metadata": {},
   "outputs": [],
   "source": [
    "def AUC(TPR,FPR):\n",
    "    n = FPR.shape[0]\n",
    "    return np.sum((FPR[0:n-1]-FPR[1:]) * (TPR[0:n-1]+TPR[1:])/2)"
   ]
  },
  {
   "cell_type": "code",
   "execution_count": 6,
   "metadata": {},
   "outputs": [
    {
     "ename": "NameError",
     "evalue": "name 'TPR' is not defined",
     "output_type": "error",
     "traceback": [
      "\u001b[0;31m---------------------------------------------------------------------------\u001b[0m",
      "\u001b[0;31mNameError\u001b[0m                                 Traceback (most recent call last)",
      "\u001b[0;32m<ipython-input-6-6d988c572743>\u001b[0m in \u001b[0;36m<module>\u001b[0;34m\u001b[0m\n\u001b[0;32m----> 1\u001b[0;31m \u001b[0mAUC\u001b[0m\u001b[0;34m(\u001b[0m\u001b[0mTPR\u001b[0m\u001b[0;34m,\u001b[0m\u001b[0mFPR\u001b[0m\u001b[0;34m)\u001b[0m\u001b[0;34m\u001b[0m\u001b[0;34m\u001b[0m\u001b[0m\n\u001b[0m",
      "\u001b[0;31mNameError\u001b[0m: name 'TPR' is not defined"
     ]
    }
   ],
   "source": [
    "AUC(TPR,FPR)"
   ]
  },
  {
   "cell_type": "markdown",
   "metadata": {},
   "source": [
    "## Other Selections\n",
    "\n",
    "Note that this function only works for the first possible selection criteria:\n",
    "\n",
    "1. $x > x_c$\n",
    "2. $x < x_c$\n",
    "3. $|x - x_0| > x_c$\n",
    "4. $|x - x_0| < x_c$\n",
    "\n",
    "The second selection is easy:"
   ]
  },
  {
   "cell_type": "code",
   "execution_count": 7,
   "metadata": {},
   "outputs": [],
   "source": [
    "def compute_rate_1(d,bins=100):\n",
    "    hist,bins_=np.histogram(d,bins=bins,density=True)\n",
    "    R = np.cumsum(hist[::-1])[::-1] * (bins_[1]-bins_[0])\n",
    "    return R,bins_\n",
    "\n",
    "def compute_rate_2(d,bins=100):\n",
    "    hist,bins_=np.histogram(d,bins=bins,density=True)\n",
    "    R = np.cumsum(hist) * (bins_[1]-bins_[0])\n",
    "    return R,bins_"
   ]
  },
  {
   "cell_type": "markdown",
   "metadata": {},
   "source": [
    "Let's workout how to do the other ones:"
   ]
  },
  {
   "cell_type": "code",
   "execution_count": 8,
   "metadata": {},
   "outputs": [
    {
     "ename": "NameError",
     "evalue": "name 'df_sig' is not defined",
     "output_type": "error",
     "traceback": [
      "\u001b[0;31m---------------------------------------------------------------------------\u001b[0m",
      "\u001b[0;31mNameError\u001b[0m                                 Traceback (most recent call last)",
      "\u001b[0;32m<ipython-input-8-11e86b5b73a9>\u001b[0m in \u001b[0;36m<module>\u001b[0;34m\u001b[0m\n\u001b[0;32m----> 1\u001b[0;31m \u001b[0mplt\u001b[0m\u001b[0;34m.\u001b[0m\u001b[0mhist\u001b[0m\u001b[0;34m(\u001b[0m\u001b[0mdf_sig\u001b[0m\u001b[0;34m[\u001b[0m\u001b[0;34m\"l_1_eta\"\u001b[0m\u001b[0;34m]\u001b[0m\u001b[0;34m)\u001b[0m\u001b[0;34m\u001b[0m\u001b[0;34m\u001b[0m\u001b[0m\n\u001b[0m",
      "\u001b[0;31mNameError\u001b[0m: name 'df_sig' is not defined"
     ]
    }
   ],
   "source": [
    "plt.hist(df_sig[\"l_1_eta\"])"
   ]
  },
  {
   "cell_type": "code",
   "execution_count": 9,
   "metadata": {},
   "outputs": [
    {
     "ename": "NameError",
     "evalue": "name 'df_sig' is not defined",
     "output_type": "error",
     "traceback": [
      "\u001b[0;31m---------------------------------------------------------------------------\u001b[0m",
      "\u001b[0;31mNameError\u001b[0m                                 Traceback (most recent call last)",
      "\u001b[0;32m<ipython-input-9-5bbf9e558fac>\u001b[0m in \u001b[0;36m<module>\u001b[0;34m\u001b[0m\n\u001b[0;32m----> 1\u001b[0;31m \u001b[0mplt\u001b[0m\u001b[0;34m.\u001b[0m\u001b[0mhist\u001b[0m\u001b[0;34m(\u001b[0m\u001b[0mnp\u001b[0m\u001b[0;34m.\u001b[0m\u001b[0mabs\u001b[0m\u001b[0;34m(\u001b[0m\u001b[0mdf_sig\u001b[0m\u001b[0;34m[\u001b[0m\u001b[0;34m\"l_1_eta\"\u001b[0m\u001b[0;34m]\u001b[0m\u001b[0;34m-\u001b[0m\u001b[0;36m1.1\u001b[0m\u001b[0;34m)\u001b[0m\u001b[0;34m)\u001b[0m\u001b[0;34m\u001b[0m\u001b[0;34m\u001b[0m\u001b[0m\n\u001b[0m",
      "\u001b[0;31mNameError\u001b[0m: name 'df_sig' is not defined"
     ]
    }
   ],
   "source": [
    "plt.hist(np.abs(df_sig[\"l_1_eta\"]-1.1))"
   ]
  },
  {
   "cell_type": "code",
   "execution_count": 10,
   "metadata": {},
   "outputs": [
    {
     "ename": "NameError",
     "evalue": "name 'df_bkg' is not defined",
     "output_type": "error",
     "traceback": [
      "\u001b[0;31m---------------------------------------------------------------------------\u001b[0m",
      "\u001b[0;31mNameError\u001b[0m                                 Traceback (most recent call last)",
      "\u001b[0;32m<ipython-input-10-f061be6f62d1>\u001b[0m in \u001b[0;36m<module>\u001b[0;34m\u001b[0m\n\u001b[0;32m----> 1\u001b[0;31m \u001b[0mplt\u001b[0m\u001b[0;34m.\u001b[0m\u001b[0mhist\u001b[0m\u001b[0;34m(\u001b[0m\u001b[0mdf_bkg\u001b[0m\u001b[0;34m[\u001b[0m\u001b[0;34m\"l_1_eta\"\u001b[0m\u001b[0;34m]\u001b[0m\u001b[0;34m,\u001b[0m\u001b[0mlabel\u001b[0m\u001b[0;34m=\u001b[0m\u001b[0;34m\"background\"\u001b[0m\u001b[0;34m)\u001b[0m\u001b[0;34m\u001b[0m\u001b[0;34m\u001b[0m\u001b[0m\n\u001b[0m\u001b[1;32m      2\u001b[0m \u001b[0mplt\u001b[0m\u001b[0;34m.\u001b[0m\u001b[0mhist\u001b[0m\u001b[0;34m(\u001b[0m\u001b[0mdf_sig\u001b[0m\u001b[0;34m[\u001b[0m\u001b[0;34m\"l_1_eta\"\u001b[0m\u001b[0;34m]\u001b[0m\u001b[0;34m,\u001b[0m\u001b[0mlabel\u001b[0m\u001b[0;34m=\u001b[0m\u001b[0;34m\"signal\"\u001b[0m\u001b[0;34m)\u001b[0m\u001b[0;34m\u001b[0m\u001b[0;34m\u001b[0m\u001b[0m\n\u001b[1;32m      3\u001b[0m \u001b[0mplt\u001b[0m\u001b[0;34m.\u001b[0m\u001b[0mlegend\u001b[0m\u001b[0;34m(\u001b[0m\u001b[0;34m)\u001b[0m\u001b[0;34m\u001b[0m\u001b[0;34m\u001b[0m\u001b[0m\n",
      "\u001b[0;31mNameError\u001b[0m: name 'df_bkg' is not defined"
     ]
    }
   ],
   "source": [
    "plt.hist(df_bkg[\"l_1_eta\"],label=\"background\")\n",
    "plt.hist(df_sig[\"l_1_eta\"],label=\"signal\")\n",
    "plt.legend()"
   ]
  },
  {
   "cell_type": "code",
   "execution_count": 11,
   "metadata": {},
   "outputs": [],
   "source": [
    "def compute_rate_3(d,x_0=0.,bins=100):\n",
    "    hist,bins_=np.histogram(np.abs(d-x_0),bins=bins,density=True)\n",
    "    R = np.cumsum(hist[::-1])[::-1] * (bins_[1]-bins_[0])\n",
    "    return R,bins_\n",
    "\n",
    "def compute_rate_4(d,x_0=0.,bins=100):\n",
    "    hist,bins_=np.histogram(np.abs(d-x_0),bins=bins,density=True)\n",
    "    R = np.cumsum(hist) * (bins_[1]-bins_[0])\n",
    "    return R,bins_\n"
   ]
  },
  {
   "cell_type": "code",
   "execution_count": 12,
   "metadata": {},
   "outputs": [
    {
     "ename": "NameError",
     "evalue": "name 'df_sig' is not defined",
     "output_type": "error",
     "traceback": [
      "\u001b[0;31m---------------------------------------------------------------------------\u001b[0m",
      "\u001b[0;31mNameError\u001b[0m                                 Traceback (most recent call last)",
      "\u001b[0;32m<ipython-input-12-18f12d9fa29f>\u001b[0m in \u001b[0;36m<module>\u001b[0;34m\u001b[0m\n\u001b[0;32m----> 1\u001b[0;31m \u001b[0mTPR\u001b[0m\u001b[0;34m,\u001b[0m\u001b[0mbins\u001b[0m\u001b[0;34m=\u001b[0m\u001b[0mcompute_rate_4\u001b[0m\u001b[0;34m(\u001b[0m\u001b[0mdf_sig\u001b[0m\u001b[0;34m[\u001b[0m\u001b[0;34m\"l_1_eta\"\u001b[0m\u001b[0;34m]\u001b[0m\u001b[0;34m)\u001b[0m\u001b[0;34m\u001b[0m\u001b[0;34m\u001b[0m\u001b[0m\n\u001b[0m\u001b[1;32m      2\u001b[0m \u001b[0mFPR\u001b[0m\u001b[0;34m,\u001b[0m\u001b[0mbins\u001b[0m\u001b[0;34m=\u001b[0m\u001b[0mcompute_rate_4\u001b[0m\u001b[0;34m(\u001b[0m\u001b[0mdf_bkg\u001b[0m\u001b[0;34m[\u001b[0m\u001b[0;34m\"l_1_eta\"\u001b[0m\u001b[0;34m]\u001b[0m\u001b[0;34m,\u001b[0m\u001b[0mbins\u001b[0m\u001b[0;34m=\u001b[0m\u001b[0mbins\u001b[0m\u001b[0;34m)\u001b[0m\u001b[0;34m\u001b[0m\u001b[0;34m\u001b[0m\u001b[0m\n\u001b[1;32m      3\u001b[0m \u001b[0;34m\u001b[0m\u001b[0m\n\u001b[1;32m      4\u001b[0m \u001b[0mplt\u001b[0m\u001b[0;34m.\u001b[0m\u001b[0mplot\u001b[0m\u001b[0;34m(\u001b[0m\u001b[0mbins\u001b[0m\u001b[0;34m[\u001b[0m\u001b[0;34m:\u001b[0m\u001b[0;34m-\u001b[0m\u001b[0;36m1\u001b[0m\u001b[0;34m]\u001b[0m\u001b[0;34m,\u001b[0m\u001b[0mTPR\u001b[0m\u001b[0;34m,\u001b[0m\u001b[0mlabel\u001b[0m\u001b[0;34m=\u001b[0m\u001b[0;34m\"TPR\"\u001b[0m\u001b[0;34m)\u001b[0m\u001b[0;34m\u001b[0m\u001b[0;34m\u001b[0m\u001b[0m\n\u001b[1;32m      5\u001b[0m \u001b[0mplt\u001b[0m\u001b[0;34m.\u001b[0m\u001b[0mplot\u001b[0m\u001b[0;34m(\u001b[0m\u001b[0mbins\u001b[0m\u001b[0;34m[\u001b[0m\u001b[0;34m:\u001b[0m\u001b[0;34m-\u001b[0m\u001b[0;36m1\u001b[0m\u001b[0;34m]\u001b[0m\u001b[0;34m,\u001b[0m\u001b[0mFPR\u001b[0m\u001b[0;34m,\u001b[0m\u001b[0mlabel\u001b[0m\u001b[0;34m=\u001b[0m\u001b[0;34m\"FPR\"\u001b[0m\u001b[0;34m)\u001b[0m\u001b[0;34m\u001b[0m\u001b[0;34m\u001b[0m\u001b[0m\n",
      "\u001b[0;31mNameError\u001b[0m: name 'df_sig' is not defined"
     ]
    }
   ],
   "source": [
    "TPR,bins=compute_rate_4(df_sig[\"l_1_eta\"])\n",
    "FPR,bins=compute_rate_4(df_bkg[\"l_1_eta\"],bins=bins)\n",
    "\n",
    "plt.plot(bins[:-1],TPR,label=\"TPR\")\n",
    "plt.plot(bins[:-1],FPR,label=\"FPR\")\n",
    "plt.legend()\n",
    "\n"
   ]
  },
  {
   "cell_type": "code",
   "execution_count": 13,
   "metadata": {},
   "outputs": [
    {
     "ename": "NameError",
     "evalue": "name 'FPR' is not defined",
     "output_type": "error",
     "traceback": [
      "\u001b[0;31m---------------------------------------------------------------------------\u001b[0m",
      "\u001b[0;31mNameError\u001b[0m                                 Traceback (most recent call last)",
      "\u001b[0;32m<ipython-input-13-1e19c3a3213a>\u001b[0m in \u001b[0;36m<module>\u001b[0;34m\u001b[0m\n\u001b[0;32m----> 1\u001b[0;31m \u001b[0mplt\u001b[0m\u001b[0;34m.\u001b[0m\u001b[0mplot\u001b[0m\u001b[0;34m(\u001b[0m\u001b[0mFPR\u001b[0m\u001b[0;34m,\u001b[0m\u001b[0mTPR\u001b[0m\u001b[0;34m)\u001b[0m\u001b[0;34m\u001b[0m\u001b[0;34m\u001b[0m\u001b[0m\n\u001b[0m\u001b[1;32m      2\u001b[0m \u001b[0mplt\u001b[0m\u001b[0;34m.\u001b[0m\u001b[0mxlabel\u001b[0m\u001b[0;34m(\u001b[0m\u001b[0;34m\"FPR\"\u001b[0m\u001b[0;34m)\u001b[0m\u001b[0;34m\u001b[0m\u001b[0;34m\u001b[0m\u001b[0m\n\u001b[1;32m      3\u001b[0m \u001b[0mplt\u001b[0m\u001b[0;34m.\u001b[0m\u001b[0mylabel\u001b[0m\u001b[0;34m(\u001b[0m\u001b[0;34m\"TPR\"\u001b[0m\u001b[0;34m)\u001b[0m\u001b[0;34m\u001b[0m\u001b[0;34m\u001b[0m\u001b[0m\n\u001b[1;32m      4\u001b[0m \u001b[0mplt\u001b[0m\u001b[0;34m.\u001b[0m\u001b[0mplot\u001b[0m\u001b[0;34m(\u001b[0m\u001b[0;34m[\u001b[0m\u001b[0;36m0\u001b[0m\u001b[0;34m,\u001b[0m\u001b[0;36m1\u001b[0m\u001b[0;34m]\u001b[0m\u001b[0;34m,\u001b[0m\u001b[0;34m[\u001b[0m\u001b[0;36m0\u001b[0m\u001b[0;34m,\u001b[0m\u001b[0;36m1\u001b[0m\u001b[0;34m]\u001b[0m\u001b[0;34m)\u001b[0m\u001b[0;34m\u001b[0m\u001b[0;34m\u001b[0m\u001b[0m\n",
      "\u001b[0;31mNameError\u001b[0m: name 'FPR' is not defined"
     ]
    }
   ],
   "source": [
    "plt.plot(FPR,TPR)\n",
    "plt.xlabel(\"FPR\")\n",
    "plt.ylabel(\"TPR\")\n",
    "plt.plot([0,1],[0,1])"
   ]
  },
  {
   "cell_type": "markdown",
   "metadata": {},
   "source": [
    "## Linear Discriminant\n",
    "\n",
    "From lab 4:\n",
    "\n",
    "Compute the between-class $\\bf{S}_B$ and within-class $\\bf{S}_W$ covariance matrices defined as:\n",
    "\n",
    "$$\n",
    "\\bf{S}_B = (\\bf{m_2}-\\bf{m_1})(\\bf{m_2}-\\bf{m_1})^T \\\\\n",
    "$$\n",
    "$$\n",
    "\\bf{S}_W = \\sum_{i=1,2} \\sum_{n=1}^{l_i} (\\bf{x}_n^i - \\bf{m}_i) (\\bf{x}_n^i - \\bf{m}_i)^T\n",
    "$$\n",
    "\n",
    "where $\\bf{m_i}$ are the vectors containing the means for category 1 and 2, here defined as signal and background. Here $\\bf{x}_n^i$ is the vector containing the observables for the $n$th example event in category $i$.\n",
    "\n",
    "Compute the linear coefficients $\\bf{w} = \\bf{S_W}^{-1}(\\bf{m_2}-\\bf{m_1})$. Compare the histogram of the distribution of $F_n^i=\\bf{w}^T\\bf{x}_n^i$ for the two categories.\n",
    "\n"
   ]
  },
  {
   "cell_type": "code",
   "execution_count": 41,
   "metadata": {},
   "outputs": [
    {
     "data": {
      "text/plain": [
       "0.7603279965519885"
      ]
     },
     "execution_count": 41,
     "metadata": {},
     "output_type": "execute_result"
    }
   ],
   "source": [
    "# Wrong\n",
    "np.mean(np.array(df_sig))"
   ]
  },
  {
   "cell_type": "code",
   "execution_count": 42,
   "metadata": {},
   "outputs": [
    {
     "data": {
      "text/plain": [
       "(2287827, 19)"
      ]
     },
     "execution_count": 42,
     "metadata": {},
     "output_type": "execute_result"
    }
   ],
   "source": [
    "df_sig.shape"
   ]
  },
  {
   "cell_type": "code",
   "execution_count": 70,
   "metadata": {},
   "outputs": [
    {
     "data": {
      "text/html": [
       "<div>\n",
       "<style scoped>\n",
       "    .dataframe tbody tr th:only-of-type {\n",
       "        vertical-align: middle;\n",
       "    }\n",
       "\n",
       "    .dataframe tbody tr th {\n",
       "        vertical-align: top;\n",
       "    }\n",
       "\n",
       "    .dataframe thead th {\n",
       "        text-align: right;\n",
       "    }\n",
       "</style>\n",
       "<table border=\"1\" class=\"dataframe\">\n",
       "  <thead>\n",
       "    <tr style=\"text-align: right;\">\n",
       "      <th></th>\n",
       "      <th>signal</th>\n",
       "      <th>l_1_pT</th>\n",
       "      <th>l_1_eta</th>\n",
       "      <th>l_1_phi</th>\n",
       "      <th>l_2_pT</th>\n",
       "      <th>l_2_eta</th>\n",
       "      <th>l_2_phi</th>\n",
       "      <th>MET</th>\n",
       "      <th>MET_phi</th>\n",
       "      <th>MET_rel</th>\n",
       "      <th>axial_MET</th>\n",
       "      <th>M_R</th>\n",
       "      <th>M_TR_2</th>\n",
       "      <th>R</th>\n",
       "      <th>MT2</th>\n",
       "      <th>S_R</th>\n",
       "      <th>M_Delta_R</th>\n",
       "      <th>dPhi_r_b</th>\n",
       "      <th>cos_theta_r1</th>\n",
       "    </tr>\n",
       "  </thead>\n",
       "  <tbody>\n",
       "    <tr>\n",
       "      <th>1</th>\n",
       "      <td>1.0</td>\n",
       "      <td>1.667973</td>\n",
       "      <td>0.064191</td>\n",
       "      <td>-1.225171</td>\n",
       "      <td>0.506102</td>\n",
       "      <td>-0.338939</td>\n",
       "      <td>1.672543</td>\n",
       "      <td>3.475464</td>\n",
       "      <td>-1.219136</td>\n",
       "      <td>0.012955</td>\n",
       "      <td>3.775174</td>\n",
       "      <td>1.045977</td>\n",
       "      <td>0.568051</td>\n",
       "      <td>0.481928</td>\n",
       "      <td>0.000000</td>\n",
       "      <td>0.448410</td>\n",
       "      <td>0.205356</td>\n",
       "      <td>1.321893</td>\n",
       "      <td>0.377584</td>\n",
       "    </tr>\n",
       "    <tr>\n",
       "      <th>2</th>\n",
       "      <td>1.0</td>\n",
       "      <td>0.444840</td>\n",
       "      <td>-0.134298</td>\n",
       "      <td>-0.709972</td>\n",
       "      <td>0.451719</td>\n",
       "      <td>-1.613871</td>\n",
       "      <td>-0.768661</td>\n",
       "      <td>1.219918</td>\n",
       "      <td>0.504026</td>\n",
       "      <td>1.831248</td>\n",
       "      <td>-0.431385</td>\n",
       "      <td>0.526283</td>\n",
       "      <td>0.941514</td>\n",
       "      <td>1.587535</td>\n",
       "      <td>2.024308</td>\n",
       "      <td>0.603498</td>\n",
       "      <td>1.562374</td>\n",
       "      <td>1.135454</td>\n",
       "      <td>0.180910</td>\n",
       "    </tr>\n",
       "    <tr>\n",
       "      <th>3</th>\n",
       "      <td>1.0</td>\n",
       "      <td>0.381256</td>\n",
       "      <td>-0.976145</td>\n",
       "      <td>0.693152</td>\n",
       "      <td>0.448959</td>\n",
       "      <td>0.891753</td>\n",
       "      <td>-0.677328</td>\n",
       "      <td>2.033060</td>\n",
       "      <td>1.533041</td>\n",
       "      <td>3.046260</td>\n",
       "      <td>-1.005285</td>\n",
       "      <td>0.569386</td>\n",
       "      <td>1.015211</td>\n",
       "      <td>1.582217</td>\n",
       "      <td>1.551914</td>\n",
       "      <td>0.761215</td>\n",
       "      <td>1.715464</td>\n",
       "      <td>1.492257</td>\n",
       "      <td>0.090719</td>\n",
       "    </tr>\n",
       "    <tr>\n",
       "      <th>4</th>\n",
       "      <td>1.0</td>\n",
       "      <td>1.309996</td>\n",
       "      <td>-0.690089</td>\n",
       "      <td>-0.676259</td>\n",
       "      <td>1.589283</td>\n",
       "      <td>-0.693326</td>\n",
       "      <td>0.622907</td>\n",
       "      <td>1.087562</td>\n",
       "      <td>-0.381742</td>\n",
       "      <td>0.589204</td>\n",
       "      <td>1.365479</td>\n",
       "      <td>1.179295</td>\n",
       "      <td>0.968218</td>\n",
       "      <td>0.728563</td>\n",
       "      <td>0.000000</td>\n",
       "      <td>1.083158</td>\n",
       "      <td>0.043429</td>\n",
       "      <td>1.154854</td>\n",
       "      <td>0.094859</td>\n",
       "    </tr>\n",
       "    <tr>\n",
       "      <th>8</th>\n",
       "      <td>1.0</td>\n",
       "      <td>2.112812</td>\n",
       "      <td>0.742983</td>\n",
       "      <td>-0.330539</td>\n",
       "      <td>0.805253</td>\n",
       "      <td>-0.028887</td>\n",
       "      <td>-1.446679</td>\n",
       "      <td>2.299946</td>\n",
       "      <td>1.450429</td>\n",
       "      <td>2.989110</td>\n",
       "      <td>-1.894770</td>\n",
       "      <td>1.445125</td>\n",
       "      <td>2.548166</td>\n",
       "      <td>1.564721</td>\n",
       "      <td>2.393632</td>\n",
       "      <td>1.554566</td>\n",
       "      <td>2.148468</td>\n",
       "      <td>1.179117</td>\n",
       "      <td>0.688057</td>\n",
       "    </tr>\n",
       "    <tr>\n",
       "      <th>...</th>\n",
       "      <td>...</td>\n",
       "      <td>...</td>\n",
       "      <td>...</td>\n",
       "      <td>...</td>\n",
       "      <td>...</td>\n",
       "      <td>...</td>\n",
       "      <td>...</td>\n",
       "      <td>...</td>\n",
       "      <td>...</td>\n",
       "      <td>...</td>\n",
       "      <td>...</td>\n",
       "      <td>...</td>\n",
       "      <td>...</td>\n",
       "      <td>...</td>\n",
       "      <td>...</td>\n",
       "      <td>...</td>\n",
       "      <td>...</td>\n",
       "      <td>...</td>\n",
       "      <td>...</td>\n",
       "    </tr>\n",
       "    <tr>\n",
       "      <th>4999986</th>\n",
       "      <td>1.0</td>\n",
       "      <td>0.951119</td>\n",
       "      <td>-1.025120</td>\n",
       "      <td>0.735755</td>\n",
       "      <td>1.072442</td>\n",
       "      <td>-1.268414</td>\n",
       "      <td>-1.365378</td>\n",
       "      <td>0.496042</td>\n",
       "      <td>-1.378751</td>\n",
       "      <td>0.027446</td>\n",
       "      <td>0.241199</td>\n",
       "      <td>0.841212</td>\n",
       "      <td>0.726010</td>\n",
       "      <td>0.765865</td>\n",
       "      <td>0.000000</td>\n",
       "      <td>0.816827</td>\n",
       "      <td>0.300119</td>\n",
       "      <td>0.758559</td>\n",
       "      <td>0.259673</td>\n",
       "    </tr>\n",
       "    <tr>\n",
       "      <th>4999988</th>\n",
       "      <td>1.0</td>\n",
       "      <td>2.039801</td>\n",
       "      <td>0.851302</td>\n",
       "      <td>0.125229</td>\n",
       "      <td>0.934144</td>\n",
       "      <td>0.551678</td>\n",
       "      <td>-0.811299</td>\n",
       "      <td>1.602762</td>\n",
       "      <td>-0.852513</td>\n",
       "      <td>0.209035</td>\n",
       "      <td>0.412390</td>\n",
       "      <td>1.370954</td>\n",
       "      <td>1.584090</td>\n",
       "      <td>1.025354</td>\n",
       "      <td>0.202440</td>\n",
       "      <td>1.102830</td>\n",
       "      <td>0.605197</td>\n",
       "      <td>0.739403</td>\n",
       "      <td>0.612186</td>\n",
       "    </tr>\n",
       "    <tr>\n",
       "      <th>4999991</th>\n",
       "      <td>1.0</td>\n",
       "      <td>1.031701</td>\n",
       "      <td>0.648011</td>\n",
       "      <td>-1.616710</td>\n",
       "      <td>0.532912</td>\n",
       "      <td>1.663047</td>\n",
       "      <td>-1.243807</td>\n",
       "      <td>0.706740</td>\n",
       "      <td>0.189915</td>\n",
       "      <td>0.433557</td>\n",
       "      <td>-0.393302</td>\n",
       "      <td>0.809631</td>\n",
       "      <td>1.087218</td>\n",
       "      <td>1.191645</td>\n",
       "      <td>1.972363</td>\n",
       "      <td>0.698013</td>\n",
       "      <td>1.564201</td>\n",
       "      <td>0.035361</td>\n",
       "      <td>0.504437</td>\n",
       "    </tr>\n",
       "    <tr>\n",
       "      <th>4999995</th>\n",
       "      <td>1.0</td>\n",
       "      <td>0.853325</td>\n",
       "      <td>-0.961783</td>\n",
       "      <td>-1.487277</td>\n",
       "      <td>0.678190</td>\n",
       "      <td>0.493580</td>\n",
       "      <td>1.647969</td>\n",
       "      <td>1.843867</td>\n",
       "      <td>0.276954</td>\n",
       "      <td>1.025105</td>\n",
       "      <td>-1.486535</td>\n",
       "      <td>0.892879</td>\n",
       "      <td>1.684429</td>\n",
       "      <td>1.674084</td>\n",
       "      <td>3.366298</td>\n",
       "      <td>1.046707</td>\n",
       "      <td>2.646649</td>\n",
       "      <td>1.389226</td>\n",
       "      <td>0.364599</td>\n",
       "    </tr>\n",
       "    <tr>\n",
       "      <th>4999998</th>\n",
       "      <td>1.0</td>\n",
       "      <td>1.784218</td>\n",
       "      <td>-0.833565</td>\n",
       "      <td>-0.560091</td>\n",
       "      <td>0.953342</td>\n",
       "      <td>-0.688969</td>\n",
       "      <td>-1.428233</td>\n",
       "      <td>2.660703</td>\n",
       "      <td>-0.861344</td>\n",
       "      <td>2.116892</td>\n",
       "      <td>2.906151</td>\n",
       "      <td>1.232334</td>\n",
       "      <td>0.952444</td>\n",
       "      <td>0.685846</td>\n",
       "      <td>0.000000</td>\n",
       "      <td>0.781874</td>\n",
       "      <td>0.676003</td>\n",
       "      <td>1.197807</td>\n",
       "      <td>0.093689</td>\n",
       "    </tr>\n",
       "  </tbody>\n",
       "</table>\n",
       "<p>2287827 rows × 19 columns</p>\n",
       "</div>"
      ],
      "text/plain": [
       "         signal    l_1_pT   l_1_eta   l_1_phi    l_2_pT   l_2_eta   l_2_phi  \\\n",
       "1           1.0  1.667973  0.064191 -1.225171  0.506102 -0.338939  1.672543   \n",
       "2           1.0  0.444840 -0.134298 -0.709972  0.451719 -1.613871 -0.768661   \n",
       "3           1.0  0.381256 -0.976145  0.693152  0.448959  0.891753 -0.677328   \n",
       "4           1.0  1.309996 -0.690089 -0.676259  1.589283 -0.693326  0.622907   \n",
       "8           1.0  2.112812  0.742983 -0.330539  0.805253 -0.028887 -1.446679   \n",
       "...         ...       ...       ...       ...       ...       ...       ...   \n",
       "4999986     1.0  0.951119 -1.025120  0.735755  1.072442 -1.268414 -1.365378   \n",
       "4999988     1.0  2.039801  0.851302  0.125229  0.934144  0.551678 -0.811299   \n",
       "4999991     1.0  1.031701  0.648011 -1.616710  0.532912  1.663047 -1.243807   \n",
       "4999995     1.0  0.853325 -0.961783 -1.487277  0.678190  0.493580  1.647969   \n",
       "4999998     1.0  1.784218 -0.833565 -0.560091  0.953342 -0.688969 -1.428233   \n",
       "\n",
       "              MET   MET_phi   MET_rel  axial_MET       M_R    M_TR_2  \\\n",
       "1        3.475464 -1.219136  0.012955   3.775174  1.045977  0.568051   \n",
       "2        1.219918  0.504026  1.831248  -0.431385  0.526283  0.941514   \n",
       "3        2.033060  1.533041  3.046260  -1.005285  0.569386  1.015211   \n",
       "4        1.087562 -0.381742  0.589204   1.365479  1.179295  0.968218   \n",
       "8        2.299946  1.450429  2.989110  -1.894770  1.445125  2.548166   \n",
       "...           ...       ...       ...        ...       ...       ...   \n",
       "4999986  0.496042 -1.378751  0.027446   0.241199  0.841212  0.726010   \n",
       "4999988  1.602762 -0.852513  0.209035   0.412390  1.370954  1.584090   \n",
       "4999991  0.706740  0.189915  0.433557  -0.393302  0.809631  1.087218   \n",
       "4999995  1.843867  0.276954  1.025105  -1.486535  0.892879  1.684429   \n",
       "4999998  2.660703 -0.861344  2.116892   2.906151  1.232334  0.952444   \n",
       "\n",
       "                R       MT2       S_R  M_Delta_R  dPhi_r_b  cos_theta_r1  \n",
       "1        0.481928  0.000000  0.448410   0.205356  1.321893      0.377584  \n",
       "2        1.587535  2.024308  0.603498   1.562374  1.135454      0.180910  \n",
       "3        1.582217  1.551914  0.761215   1.715464  1.492257      0.090719  \n",
       "4        0.728563  0.000000  1.083158   0.043429  1.154854      0.094859  \n",
       "8        1.564721  2.393632  1.554566   2.148468  1.179117      0.688057  \n",
       "...           ...       ...       ...        ...       ...           ...  \n",
       "4999986  0.765865  0.000000  0.816827   0.300119  0.758559      0.259673  \n",
       "4999988  1.025354  0.202440  1.102830   0.605197  0.739403      0.612186  \n",
       "4999991  1.191645  1.972363  0.698013   1.564201  0.035361      0.504437  \n",
       "4999995  1.674084  3.366298  1.046707   2.646649  1.389226      0.364599  \n",
       "4999998  0.685846  0.000000  0.781874   0.676003  1.197807      0.093689  \n",
       "\n",
       "[2287827 rows x 19 columns]"
      ]
     },
     "execution_count": 70,
     "metadata": {},
     "output_type": "execute_result"
    }
   ],
   "source": [
    "df_sig"
   ]
  },
  {
   "cell_type": "code",
   "execution_count": 73,
   "metadata": {},
   "outputs": [
    {
     "data": {
      "text/html": [
       "<div>\n",
       "<style scoped>\n",
       "    .dataframe tbody tr th:only-of-type {\n",
       "        vertical-align: middle;\n",
       "    }\n",
       "\n",
       "    .dataframe tbody tr th {\n",
       "        vertical-align: top;\n",
       "    }\n",
       "\n",
       "    .dataframe thead th {\n",
       "        text-align: right;\n",
       "    }\n",
       "</style>\n",
       "<table border=\"1\" class=\"dataframe\">\n",
       "  <thead>\n",
       "    <tr style=\"text-align: right;\">\n",
       "      <th></th>\n",
       "      <th>l_1_pT</th>\n",
       "      <th>l_1_eta</th>\n",
       "      <th>l_1_phi</th>\n",
       "      <th>l_2_pT</th>\n",
       "      <th>l_2_eta</th>\n",
       "      <th>l_2_phi</th>\n",
       "      <th>MET</th>\n",
       "      <th>MET_phi</th>\n",
       "      <th>MET_rel</th>\n",
       "      <th>axial_MET</th>\n",
       "      <th>M_R</th>\n",
       "      <th>M_TR_2</th>\n",
       "      <th>R</th>\n",
       "      <th>MT2</th>\n",
       "      <th>S_R</th>\n",
       "      <th>M_Delta_R</th>\n",
       "      <th>dPhi_r_b</th>\n",
       "      <th>cos_theta_r1</th>\n",
       "    </tr>\n",
       "  </thead>\n",
       "  <tbody>\n",
       "    <tr>\n",
       "      <th>1</th>\n",
       "      <td>1.667973</td>\n",
       "      <td>0.064191</td>\n",
       "      <td>-1.225171</td>\n",
       "      <td>0.506102</td>\n",
       "      <td>-0.338939</td>\n",
       "      <td>1.672543</td>\n",
       "      <td>3.475464</td>\n",
       "      <td>-1.219136</td>\n",
       "      <td>0.012955</td>\n",
       "      <td>3.775174</td>\n",
       "      <td>1.045977</td>\n",
       "      <td>0.568051</td>\n",
       "      <td>0.481928</td>\n",
       "      <td>0.000000</td>\n",
       "      <td>0.448410</td>\n",
       "      <td>0.205356</td>\n",
       "      <td>1.321893</td>\n",
       "      <td>0.377584</td>\n",
       "    </tr>\n",
       "    <tr>\n",
       "      <th>2</th>\n",
       "      <td>0.444840</td>\n",
       "      <td>-0.134298</td>\n",
       "      <td>-0.709972</td>\n",
       "      <td>0.451719</td>\n",
       "      <td>-1.613871</td>\n",
       "      <td>-0.768661</td>\n",
       "      <td>1.219918</td>\n",
       "      <td>0.504026</td>\n",
       "      <td>1.831248</td>\n",
       "      <td>-0.431385</td>\n",
       "      <td>0.526283</td>\n",
       "      <td>0.941514</td>\n",
       "      <td>1.587535</td>\n",
       "      <td>2.024308</td>\n",
       "      <td>0.603498</td>\n",
       "      <td>1.562374</td>\n",
       "      <td>1.135454</td>\n",
       "      <td>0.180910</td>\n",
       "    </tr>\n",
       "    <tr>\n",
       "      <th>3</th>\n",
       "      <td>0.381256</td>\n",
       "      <td>-0.976145</td>\n",
       "      <td>0.693152</td>\n",
       "      <td>0.448959</td>\n",
       "      <td>0.891753</td>\n",
       "      <td>-0.677328</td>\n",
       "      <td>2.033060</td>\n",
       "      <td>1.533041</td>\n",
       "      <td>3.046260</td>\n",
       "      <td>-1.005285</td>\n",
       "      <td>0.569386</td>\n",
       "      <td>1.015211</td>\n",
       "      <td>1.582217</td>\n",
       "      <td>1.551914</td>\n",
       "      <td>0.761215</td>\n",
       "      <td>1.715464</td>\n",
       "      <td>1.492257</td>\n",
       "      <td>0.090719</td>\n",
       "    </tr>\n",
       "    <tr>\n",
       "      <th>4</th>\n",
       "      <td>1.309996</td>\n",
       "      <td>-0.690089</td>\n",
       "      <td>-0.676259</td>\n",
       "      <td>1.589283</td>\n",
       "      <td>-0.693326</td>\n",
       "      <td>0.622907</td>\n",
       "      <td>1.087562</td>\n",
       "      <td>-0.381742</td>\n",
       "      <td>0.589204</td>\n",
       "      <td>1.365479</td>\n",
       "      <td>1.179295</td>\n",
       "      <td>0.968218</td>\n",
       "      <td>0.728563</td>\n",
       "      <td>0.000000</td>\n",
       "      <td>1.083158</td>\n",
       "      <td>0.043429</td>\n",
       "      <td>1.154854</td>\n",
       "      <td>0.094859</td>\n",
       "    </tr>\n",
       "    <tr>\n",
       "      <th>8</th>\n",
       "      <td>2.112812</td>\n",
       "      <td>0.742983</td>\n",
       "      <td>-0.330539</td>\n",
       "      <td>0.805253</td>\n",
       "      <td>-0.028887</td>\n",
       "      <td>-1.446679</td>\n",
       "      <td>2.299946</td>\n",
       "      <td>1.450429</td>\n",
       "      <td>2.989110</td>\n",
       "      <td>-1.894770</td>\n",
       "      <td>1.445125</td>\n",
       "      <td>2.548166</td>\n",
       "      <td>1.564721</td>\n",
       "      <td>2.393632</td>\n",
       "      <td>1.554566</td>\n",
       "      <td>2.148468</td>\n",
       "      <td>1.179117</td>\n",
       "      <td>0.688057</td>\n",
       "    </tr>\n",
       "    <tr>\n",
       "      <th>...</th>\n",
       "      <td>...</td>\n",
       "      <td>...</td>\n",
       "      <td>...</td>\n",
       "      <td>...</td>\n",
       "      <td>...</td>\n",
       "      <td>...</td>\n",
       "      <td>...</td>\n",
       "      <td>...</td>\n",
       "      <td>...</td>\n",
       "      <td>...</td>\n",
       "      <td>...</td>\n",
       "      <td>...</td>\n",
       "      <td>...</td>\n",
       "      <td>...</td>\n",
       "      <td>...</td>\n",
       "      <td>...</td>\n",
       "      <td>...</td>\n",
       "      <td>...</td>\n",
       "    </tr>\n",
       "    <tr>\n",
       "      <th>4999986</th>\n",
       "      <td>0.951119</td>\n",
       "      <td>-1.025120</td>\n",
       "      <td>0.735755</td>\n",
       "      <td>1.072442</td>\n",
       "      <td>-1.268414</td>\n",
       "      <td>-1.365378</td>\n",
       "      <td>0.496042</td>\n",
       "      <td>-1.378751</td>\n",
       "      <td>0.027446</td>\n",
       "      <td>0.241199</td>\n",
       "      <td>0.841212</td>\n",
       "      <td>0.726010</td>\n",
       "      <td>0.765865</td>\n",
       "      <td>0.000000</td>\n",
       "      <td>0.816827</td>\n",
       "      <td>0.300119</td>\n",
       "      <td>0.758559</td>\n",
       "      <td>0.259673</td>\n",
       "    </tr>\n",
       "    <tr>\n",
       "      <th>4999988</th>\n",
       "      <td>2.039801</td>\n",
       "      <td>0.851302</td>\n",
       "      <td>0.125229</td>\n",
       "      <td>0.934144</td>\n",
       "      <td>0.551678</td>\n",
       "      <td>-0.811299</td>\n",
       "      <td>1.602762</td>\n",
       "      <td>-0.852513</td>\n",
       "      <td>0.209035</td>\n",
       "      <td>0.412390</td>\n",
       "      <td>1.370954</td>\n",
       "      <td>1.584090</td>\n",
       "      <td>1.025354</td>\n",
       "      <td>0.202440</td>\n",
       "      <td>1.102830</td>\n",
       "      <td>0.605197</td>\n",
       "      <td>0.739403</td>\n",
       "      <td>0.612186</td>\n",
       "    </tr>\n",
       "    <tr>\n",
       "      <th>4999991</th>\n",
       "      <td>1.031701</td>\n",
       "      <td>0.648011</td>\n",
       "      <td>-1.616710</td>\n",
       "      <td>0.532912</td>\n",
       "      <td>1.663047</td>\n",
       "      <td>-1.243807</td>\n",
       "      <td>0.706740</td>\n",
       "      <td>0.189915</td>\n",
       "      <td>0.433557</td>\n",
       "      <td>-0.393302</td>\n",
       "      <td>0.809631</td>\n",
       "      <td>1.087218</td>\n",
       "      <td>1.191645</td>\n",
       "      <td>1.972363</td>\n",
       "      <td>0.698013</td>\n",
       "      <td>1.564201</td>\n",
       "      <td>0.035361</td>\n",
       "      <td>0.504437</td>\n",
       "    </tr>\n",
       "    <tr>\n",
       "      <th>4999995</th>\n",
       "      <td>0.853325</td>\n",
       "      <td>-0.961783</td>\n",
       "      <td>-1.487277</td>\n",
       "      <td>0.678190</td>\n",
       "      <td>0.493580</td>\n",
       "      <td>1.647969</td>\n",
       "      <td>1.843867</td>\n",
       "      <td>0.276954</td>\n",
       "      <td>1.025105</td>\n",
       "      <td>-1.486535</td>\n",
       "      <td>0.892879</td>\n",
       "      <td>1.684429</td>\n",
       "      <td>1.674084</td>\n",
       "      <td>3.366298</td>\n",
       "      <td>1.046707</td>\n",
       "      <td>2.646649</td>\n",
       "      <td>1.389226</td>\n",
       "      <td>0.364599</td>\n",
       "    </tr>\n",
       "    <tr>\n",
       "      <th>4999998</th>\n",
       "      <td>1.784218</td>\n",
       "      <td>-0.833565</td>\n",
       "      <td>-0.560091</td>\n",
       "      <td>0.953342</td>\n",
       "      <td>-0.688969</td>\n",
       "      <td>-1.428233</td>\n",
       "      <td>2.660703</td>\n",
       "      <td>-0.861344</td>\n",
       "      <td>2.116892</td>\n",
       "      <td>2.906151</td>\n",
       "      <td>1.232334</td>\n",
       "      <td>0.952444</td>\n",
       "      <td>0.685846</td>\n",
       "      <td>0.000000</td>\n",
       "      <td>0.781874</td>\n",
       "      <td>0.676003</td>\n",
       "      <td>1.197807</td>\n",
       "      <td>0.093689</td>\n",
       "    </tr>\n",
       "  </tbody>\n",
       "</table>\n",
       "<p>2287827 rows × 18 columns</p>\n",
       "</div>"
      ],
      "text/plain": [
       "           l_1_pT   l_1_eta   l_1_phi    l_2_pT   l_2_eta   l_2_phi       MET  \\\n",
       "1        1.667973  0.064191 -1.225171  0.506102 -0.338939  1.672543  3.475464   \n",
       "2        0.444840 -0.134298 -0.709972  0.451719 -1.613871 -0.768661  1.219918   \n",
       "3        0.381256 -0.976145  0.693152  0.448959  0.891753 -0.677328  2.033060   \n",
       "4        1.309996 -0.690089 -0.676259  1.589283 -0.693326  0.622907  1.087562   \n",
       "8        2.112812  0.742983 -0.330539  0.805253 -0.028887 -1.446679  2.299946   \n",
       "...           ...       ...       ...       ...       ...       ...       ...   \n",
       "4999986  0.951119 -1.025120  0.735755  1.072442 -1.268414 -1.365378  0.496042   \n",
       "4999988  2.039801  0.851302  0.125229  0.934144  0.551678 -0.811299  1.602762   \n",
       "4999991  1.031701  0.648011 -1.616710  0.532912  1.663047 -1.243807  0.706740   \n",
       "4999995  0.853325 -0.961783 -1.487277  0.678190  0.493580  1.647969  1.843867   \n",
       "4999998  1.784218 -0.833565 -0.560091  0.953342 -0.688969 -1.428233  2.660703   \n",
       "\n",
       "          MET_phi   MET_rel  axial_MET       M_R    M_TR_2         R  \\\n",
       "1       -1.219136  0.012955   3.775174  1.045977  0.568051  0.481928   \n",
       "2        0.504026  1.831248  -0.431385  0.526283  0.941514  1.587535   \n",
       "3        1.533041  3.046260  -1.005285  0.569386  1.015211  1.582217   \n",
       "4       -0.381742  0.589204   1.365479  1.179295  0.968218  0.728563   \n",
       "8        1.450429  2.989110  -1.894770  1.445125  2.548166  1.564721   \n",
       "...           ...       ...        ...       ...       ...       ...   \n",
       "4999986 -1.378751  0.027446   0.241199  0.841212  0.726010  0.765865   \n",
       "4999988 -0.852513  0.209035   0.412390  1.370954  1.584090  1.025354   \n",
       "4999991  0.189915  0.433557  -0.393302  0.809631  1.087218  1.191645   \n",
       "4999995  0.276954  1.025105  -1.486535  0.892879  1.684429  1.674084   \n",
       "4999998 -0.861344  2.116892   2.906151  1.232334  0.952444  0.685846   \n",
       "\n",
       "              MT2       S_R  M_Delta_R  dPhi_r_b  cos_theta_r1  \n",
       "1        0.000000  0.448410   0.205356  1.321893      0.377584  \n",
       "2        2.024308  0.603498   1.562374  1.135454      0.180910  \n",
       "3        1.551914  0.761215   1.715464  1.492257      0.090719  \n",
       "4        0.000000  1.083158   0.043429  1.154854      0.094859  \n",
       "8        2.393632  1.554566   2.148468  1.179117      0.688057  \n",
       "...           ...       ...        ...       ...           ...  \n",
       "4999986  0.000000  0.816827   0.300119  0.758559      0.259673  \n",
       "4999988  0.202440  1.102830   0.605197  0.739403      0.612186  \n",
       "4999991  1.972363  0.698013   1.564201  0.035361      0.504437  \n",
       "4999995  3.366298  1.046707   2.646649  1.389226      0.364599  \n",
       "4999998  0.000000  0.781874   0.676003  1.197807      0.093689  \n",
       "\n",
       "[2287827 rows x 18 columns]"
      ]
     },
     "execution_count": 73,
     "metadata": {},
     "output_type": "execute_result"
    }
   ],
   "source": [
    "df_sig_0 = df_sig.drop(\"signal\",axis=1)\n",
    "df_bkg_0 = df_bkg.drop(\"signal\",axis=1)\n",
    "\n",
    "df_sig_0"
   ]
  },
  {
   "cell_type": "code",
   "execution_count": 74,
   "metadata": {},
   "outputs": [
    {
     "data": {
      "text/plain": [
       "l_1_pT          1.290233\n",
       "l_1_eta        -0.000336\n",
       "l_1_phi        -0.000553\n",
       "l_2_pT          1.138185\n",
       "l_2_eta         0.000378\n",
       "l_2_phi        -0.000128\n",
       "MET             1.417029\n",
       "MET_phi         0.000155\n",
       "MET_rel         1.275509\n",
       "axial_MET       0.084007\n",
       "M_R             1.182889\n",
       "M_TR_2          1.268996\n",
       "R               1.057301\n",
       "MT2             1.074723\n",
       "S_R             1.174697\n",
       "M_Delta_R       1.185596\n",
       "dPhi_r_b        1.014991\n",
       "cos_theta_r1    0.282560\n",
       "dtype: float64"
      ]
     },
     "execution_count": 74,
     "metadata": {},
     "output_type": "execute_result"
    }
   ],
   "source": [
    "m_s= np.mean(df_sig_0,axis=0)\n",
    "m_s"
   ]
  },
  {
   "cell_type": "code",
   "execution_count": 75,
   "metadata": {},
   "outputs": [
    {
     "data": {
      "text/plain": [
       "l_1_pT          0.534471\n",
       "l_1_eta        -0.000660\n",
       "l_1_phi        -0.000928\n",
       "l_2_pT          0.255800\n",
       "l_2_eta         0.000765\n",
       "l_2_phi        -0.000199\n",
       "MET             0.768856\n",
       "MET_phi         0.000220\n",
       "MET_rel         0.505262\n",
       "axial_MET       0.154960\n",
       "M_R             0.336500\n",
       "M_TR_2          0.495985\n",
       "R               0.105791\n",
       "MT2             0.136978\n",
       "S_R             0.321855\n",
       "M_Delta_R       0.341800\n",
       "dPhi_r_b        0.028585\n",
       "cos_theta_r1    0.106272\n",
       "dtype: float64"
      ]
     },
     "execution_count": 75,
     "metadata": {},
     "output_type": "execute_result"
    }
   ],
   "source": [
    "m_s= np.mean(df_sig_0,axis=0)\n",
    "m_b= np.mean(df_bkg_0,axis=0)\n",
    "\n",
    "delta = m_s-m_b\n",
    "delta"
   ]
  },
  {
   "cell_type": "code",
   "execution_count": 76,
   "metadata": {},
   "outputs": [
    {
     "data": {
      "text/plain": [
       "(18,)"
      ]
     },
     "execution_count": 76,
     "metadata": {},
     "output_type": "execute_result"
    }
   ],
   "source": [
    "delta.shape"
   ]
  },
  {
   "cell_type": "code",
   "execution_count": 77,
   "metadata": {},
   "outputs": [
    {
     "data": {
      "text/plain": [
       "(18,)"
      ]
     },
     "execution_count": 77,
     "metadata": {},
     "output_type": "execute_result"
    }
   ],
   "source": [
    "delta.transpose().shape"
   ]
  },
  {
   "cell_type": "code",
   "execution_count": 78,
   "metadata": {},
   "outputs": [
    {
     "data": {
      "text/plain": [
       "(1, 18)"
      ]
     },
     "execution_count": 78,
     "metadata": {},
     "output_type": "execute_result"
    }
   ],
   "source": [
    "np.matrix(delta).shape"
   ]
  },
  {
   "cell_type": "code",
   "execution_count": 79,
   "metadata": {},
   "outputs": [
    {
     "data": {
      "text/plain": [
       "(18, 1)"
      ]
     },
     "execution_count": 79,
     "metadata": {},
     "output_type": "execute_result"
    }
   ],
   "source": [
    "np.matrix(delta).transpose().shape"
   ]
  },
  {
   "cell_type": "code",
   "execution_count": 80,
   "metadata": {},
   "outputs": [],
   "source": [
    "delta=np.matrix(m_s-m_b).transpose()"
   ]
  },
  {
   "cell_type": "code",
   "execution_count": 81,
   "metadata": {},
   "outputs": [
    {
     "data": {
      "text/plain": [
       "matrix([[ 2.85659103e-01, -3.52809644e-04, -4.96156489e-04,\n",
       "          1.36717519e-01,  4.08806287e-04, -1.06310408e-04,\n",
       "          4.10931386e-01,  1.17828594e-04,  2.70047689e-01,\n",
       "          8.28218385e-02,  1.79849669e-01,  2.65089747e-01,\n",
       "          5.65419449e-02,  7.32109964e-02,  1.72022353e-01,\n",
       "          1.82682327e-01,  1.52779431e-02,  5.67995029e-02],\n",
       "        [-3.52809644e-04,  4.35745417e-07,  6.12789134e-07,\n",
       "         -1.68856020e-04, -5.04905320e-07,  1.31301040e-07,\n",
       "         -5.07529970e-04, -1.45526832e-07, -3.33528420e-04,\n",
       "         -1.02290958e-04, -2.22127344e-04, -3.27405003e-04,\n",
       "         -6.98333898e-05, -9.04208734e-05, -2.12460043e-04,\n",
       "         -2.25625882e-04, -1.88693643e-05, -7.01514925e-05],\n",
       "        [-4.96156489e-04,  6.12789134e-07,  8.61765858e-07,\n",
       "         -2.37462358e-04, -7.10048762e-07,  1.84648760e-07,\n",
       "         -7.13739809e-04, -2.04654502e-07, -4.69041288e-04,\n",
       "         -1.43851858e-04, -3.12377864e-04, -4.60429922e-04,\n",
       "         -9.82067528e-05, -1.27158948e-04, -2.98782731e-04,\n",
       "         -3.17297861e-04, -2.65360023e-05, -9.86541010e-05],\n",
       "        [ 1.36717519e-01, -1.68856020e-04, -2.37462358e-04,\n",
       "          6.54335177e-02,  1.95656224e-04, -5.08805605e-05,\n",
       "          1.96673304e-01,  5.63932073e-05,  1.29245838e-01,\n",
       "          3.96388428e-02,  8.60767267e-02,  1.26872948e-01,\n",
       "          2.70611871e-02,  3.50390577e-02,  8.23305439e-02,\n",
       "          8.74324475e-02,  7.31208092e-03,  2.71844553e-02],\n",
       "        [ 4.08806287e-04, -5.04905320e-07, -7.10048762e-07,\n",
       "          1.95656224e-04,  5.85042028e-07, -1.52140656e-07,\n",
       "          5.88083252e-04,  1.68624313e-07,  3.86464818e-04,\n",
       "          1.18526201e-04,  2.57382575e-04,  3.79369516e-04,\n",
       "          8.09170874e-05,  1.04772140e-04,  2.46180916e-04,\n",
       "          2.61436388e-04,  2.18642401e-05,  8.12856783e-05],\n",
       "        [-1.06310408e-04,  1.31301040e-07,  1.84648760e-07,\n",
       "         -5.08805605e-05, -1.52140656e-07,  3.95643018e-08,\n",
       "         -1.52931529e-04, -4.38508902e-08, -1.00500491e-04,\n",
       "         -3.08228353e-05, -6.69325486e-05, -9.86553519e-05,\n",
       "         -2.10425546e-05, -2.72460806e-05, -6.40195480e-05,\n",
       "         -6.79867459e-05, -5.68581347e-06, -2.11384069e-05],\n",
       "        [ 4.10931386e-01, -5.07529970e-04, -7.13739809e-04,\n",
       "          1.96673304e-01,  5.88083252e-04, -1.52931529e-04,\n",
       "          5.91140286e-01,  1.69500873e-04,  3.88473779e-01,\n",
       "          1.19142336e-01,  2.58720527e-01,  3.81341592e-01,\n",
       "          8.13377188e-02,  1.05316778e-01,  2.47460638e-01,\n",
       "          2.62795413e-01,  2.19778970e-02,  8.17082257e-02],\n",
       "        [ 1.17828594e-04, -1.45526832e-07, -2.04654502e-07,\n",
       "          5.63932073e-05,  1.68624313e-07, -4.38508902e-08,\n",
       "          1.69500873e-04,  4.86019084e-08,  1.11389202e-04,\n",
       "          3.41623309e-05,  7.41843457e-05,  1.09344151e-04,\n",
       "          2.33224070e-05,  3.01980531e-05,  7.09557364e-05,\n",
       "          7.53527599e-05,  6.30184208e-06,  2.34286445e-05],\n",
       "        [ 2.70047689e-01, -3.33528420e-04, -4.69041288e-04,\n",
       "          1.29245838e-01,  3.86464818e-04, -1.00500491e-04,\n",
       "          3.88473779e-01,  1.11389202e-04,  2.55289447e-01,\n",
       "          7.82955834e-02,  1.70020794e-01,  2.50602459e-01,\n",
       "          5.34518992e-02,  6.92099786e-02,  1.62621245e-01,\n",
       "          1.72698646e-01,  1.44429958e-02,  5.36953815e-02],\n",
       "        [ 8.28218385e-02, -1.02290958e-04, -1.43851858e-04,\n",
       "          3.96388428e-02,  1.18526201e-04, -3.08228353e-05,\n",
       "          1.19142336e-01,  3.41623309e-05,  7.82955834e-02,\n",
       "          2.40127371e-02,  5.21442520e-02,  7.68581153e-02,\n",
       "          1.63933436e-02,  2.12262423e-02,  4.98748593e-02,\n",
       "          5.29655315e-02,  4.42957121e-03,  1.64680181e-02],\n",
       "        [ 1.79849669e-01, -2.22127344e-04, -3.12377864e-04,\n",
       "          8.60767267e-02,  2.57382575e-04, -6.69325486e-05,\n",
       "          2.58720527e-01,  7.41843457e-05,  1.70020794e-01,\n",
       "          5.21442520e-02,  1.13232532e-01,  1.66899297e-01,\n",
       "          3.55985508e-02,  4.60933096e-02,  1.08304489e-01,\n",
       "          1.15015961e-01,  9.61892335e-03,  3.57607082e-02],\n",
       "        [ 2.65089747e-01, -3.27405003e-04, -4.60429922e-04,\n",
       "          1.26872948e-01,  3.79369516e-04, -9.86553519e-05,\n",
       "          3.81341592e-01,  1.09344151e-04,  2.50602459e-01,\n",
       "          7.68581153e-02,  1.66899297e-01,  2.46001522e-01,\n",
       "          5.24705488e-02,  6.79393177e-02,  1.59635599e-01,\n",
       "          1.69527985e-01,  1.41778296e-02,  5.27095609e-02],\n",
       "        [ 5.65419449e-02, -6.98333898e-05, -9.82067528e-05,\n",
       "          2.70611871e-02,  8.09170874e-05, -2.10425546e-05,\n",
       "          8.13377188e-02,  2.33224070e-05,  5.34518992e-02,\n",
       "          1.63933436e-02,  3.55985508e-02,  5.24705488e-02,\n",
       "          1.11916319e-02,  1.44910212e-02,  3.40492508e-02,\n",
       "          3.61592331e-02,  3.02404023e-03,  1.12426117e-02],\n",
       "        [ 7.32109964e-02, -9.04208734e-05, -1.27158948e-04,\n",
       "          3.50390577e-02,  1.04772140e-04, -2.72460806e-05,\n",
       "          1.05316778e-01,  3.01980531e-05,  6.92099786e-02,\n",
       "          2.12262423e-02,  4.60933096e-02,  6.79393177e-02,\n",
       "          1.44910212e-02,  1.87630989e-02,  4.40872626e-02,\n",
       "          4.68192859e-02,  3.91555328e-03,  1.45570303e-02],\n",
       "        [ 1.72022353e-01, -2.12460043e-04, -2.98782731e-04,\n",
       "          8.23305439e-02,  2.46180916e-04, -6.40195480e-05,\n",
       "          2.47460638e-01,  7.09557364e-05,  1.62621245e-01,\n",
       "          4.98748593e-02,  1.08304489e-01,  1.59635599e-01,\n",
       "          3.40492508e-02,  4.40872626e-02,  1.03590923e-01,\n",
       "          1.10010301e-01,  9.20029399e-03,  3.42043508e-02],\n",
       "        [ 1.82682327e-01, -2.25625882e-04, -3.17297861e-04,\n",
       "          8.74324475e-02,  2.61436388e-04, -6.79867459e-05,\n",
       "          2.62795413e-01,  7.53527599e-05,  1.72698646e-01,\n",
       "          5.29655315e-02,  1.15015961e-01,  1.69527985e-01,\n",
       "          3.61592331e-02,  4.68192859e-02,  1.10010301e-01,\n",
       "          1.16827479e-01,  9.77042278e-03,  3.63239445e-02],\n",
       "        [ 1.52779431e-02, -1.88693643e-05, -2.65360023e-05,\n",
       "          7.31208092e-03,  2.18642401e-05, -5.68581347e-06,\n",
       "          2.19778970e-02,  6.30184208e-06,  1.44429958e-02,\n",
       "          4.42957121e-03,  9.61892335e-03,  1.41778296e-02,\n",
       "          3.02404023e-03,  3.91555328e-03,  9.20029399e-03,\n",
       "          9.77042278e-03,  8.17112227e-04,  3.03781524e-03],\n",
       "        [ 5.67995029e-02, -7.01514925e-05, -9.86541010e-05,\n",
       "          2.71844553e-02,  8.12856783e-05, -2.11384069e-05,\n",
       "          8.17082257e-02,  2.34286445e-05,  5.36953815e-02,\n",
       "          1.64680181e-02,  3.57607082e-02,  5.27095609e-02,\n",
       "          1.12426117e-02,  1.45570303e-02,  3.42043508e-02,\n",
       "          3.63239445e-02,  3.03781524e-03,  1.12938237e-02]])"
      ]
     },
     "execution_count": 81,
     "metadata": {},
     "output_type": "execute_result"
    }
   ],
   "source": [
    "S_B= delta*delta.transpose()\n",
    "S_B"
   ]
  },
  {
   "cell_type": "code",
   "execution_count": 82,
   "metadata": {},
   "outputs": [
    {
     "data": {
      "text/plain": [
       "(18, 18)"
      ]
     },
     "execution_count": 82,
     "metadata": {},
     "output_type": "execute_result"
    }
   ],
   "source": [
    "S_B.shape"
   ]
  },
  {
   "cell_type": "markdown",
   "metadata": {},
   "source": [
    "Now lets compute $S_W$. Start with:\n",
    "\n",
    "$$ (\\bf{x}_n^i - \\bf{m}_i) $$"
   ]
  },
  {
   "cell_type": "code",
   "execution_count": 83,
   "metadata": {},
   "outputs": [
    {
     "data": {
      "text/html": [
       "<div>\n",
       "<style scoped>\n",
       "    .dataframe tbody tr th:only-of-type {\n",
       "        vertical-align: middle;\n",
       "    }\n",
       "\n",
       "    .dataframe tbody tr th {\n",
       "        vertical-align: top;\n",
       "    }\n",
       "\n",
       "    .dataframe thead th {\n",
       "        text-align: right;\n",
       "    }\n",
       "</style>\n",
       "<table border=\"1\" class=\"dataframe\">\n",
       "  <thead>\n",
       "    <tr style=\"text-align: right;\">\n",
       "      <th></th>\n",
       "      <th>l_1_pT</th>\n",
       "      <th>l_1_eta</th>\n",
       "      <th>l_1_phi</th>\n",
       "      <th>l_2_pT</th>\n",
       "      <th>l_2_eta</th>\n",
       "      <th>l_2_phi</th>\n",
       "      <th>MET</th>\n",
       "      <th>MET_phi</th>\n",
       "      <th>MET_rel</th>\n",
       "      <th>axial_MET</th>\n",
       "      <th>M_R</th>\n",
       "      <th>M_TR_2</th>\n",
       "      <th>R</th>\n",
       "      <th>MT2</th>\n",
       "      <th>S_R</th>\n",
       "      <th>M_Delta_R</th>\n",
       "      <th>dPhi_r_b</th>\n",
       "      <th>cos_theta_r1</th>\n",
       "    </tr>\n",
       "  </thead>\n",
       "  <tbody>\n",
       "    <tr>\n",
       "      <th>1</th>\n",
       "      <td>0.377740</td>\n",
       "      <td>0.064527</td>\n",
       "      <td>-1.224618</td>\n",
       "      <td>-0.632083</td>\n",
       "      <td>-0.339317</td>\n",
       "      <td>1.672670</td>\n",
       "      <td>2.058436</td>\n",
       "      <td>-1.219291</td>\n",
       "      <td>-1.262554</td>\n",
       "      <td>3.691167</td>\n",
       "      <td>-0.136912</td>\n",
       "      <td>-0.700944</td>\n",
       "      <td>-0.575372</td>\n",
       "      <td>-1.074723</td>\n",
       "      <td>-0.726287</td>\n",
       "      <td>-0.980241</td>\n",
       "      <td>0.306903</td>\n",
       "      <td>0.095024</td>\n",
       "    </tr>\n",
       "    <tr>\n",
       "      <th>2</th>\n",
       "      <td>-0.845393</td>\n",
       "      <td>-0.133962</td>\n",
       "      <td>-0.709418</td>\n",
       "      <td>-0.686466</td>\n",
       "      <td>-1.614249</td>\n",
       "      <td>-0.768533</td>\n",
       "      <td>-0.197111</td>\n",
       "      <td>0.503871</td>\n",
       "      <td>0.555739</td>\n",
       "      <td>-0.515392</td>\n",
       "      <td>-0.656606</td>\n",
       "      <td>-0.327482</td>\n",
       "      <td>0.530234</td>\n",
       "      <td>0.949585</td>\n",
       "      <td>-0.571200</td>\n",
       "      <td>0.376778</td>\n",
       "      <td>0.120464</td>\n",
       "      <td>-0.101650</td>\n",
       "    </tr>\n",
       "    <tr>\n",
       "      <th>3</th>\n",
       "      <td>-0.908977</td>\n",
       "      <td>-0.975809</td>\n",
       "      <td>0.693706</td>\n",
       "      <td>-0.689226</td>\n",
       "      <td>0.891375</td>\n",
       "      <td>-0.677201</td>\n",
       "      <td>0.616031</td>\n",
       "      <td>1.532886</td>\n",
       "      <td>1.770751</td>\n",
       "      <td>-1.089292</td>\n",
       "      <td>-0.613503</td>\n",
       "      <td>-0.253784</td>\n",
       "      <td>0.524916</td>\n",
       "      <td>0.477191</td>\n",
       "      <td>-0.413482</td>\n",
       "      <td>0.529867</td>\n",
       "      <td>0.477266</td>\n",
       "      <td>-0.191841</td>\n",
       "    </tr>\n",
       "    <tr>\n",
       "      <th>4</th>\n",
       "      <td>0.019763</td>\n",
       "      <td>-0.689753</td>\n",
       "      <td>-0.675706</td>\n",
       "      <td>0.451098</td>\n",
       "      <td>-0.693703</td>\n",
       "      <td>0.623035</td>\n",
       "      <td>-0.329467</td>\n",
       "      <td>-0.381897</td>\n",
       "      <td>-0.686304</td>\n",
       "      <td>1.281472</td>\n",
       "      <td>-0.003594</td>\n",
       "      <td>-0.300777</td>\n",
       "      <td>-0.328738</td>\n",
       "      <td>-1.074723</td>\n",
       "      <td>-0.091540</td>\n",
       "      <td>-1.142167</td>\n",
       "      <td>0.139863</td>\n",
       "      <td>-0.187701</td>\n",
       "    </tr>\n",
       "    <tr>\n",
       "      <th>8</th>\n",
       "      <td>0.822579</td>\n",
       "      <td>0.743319</td>\n",
       "      <td>-0.329986</td>\n",
       "      <td>-0.332932</td>\n",
       "      <td>-0.029265</td>\n",
       "      <td>-1.446551</td>\n",
       "      <td>0.882917</td>\n",
       "      <td>1.450274</td>\n",
       "      <td>1.713602</td>\n",
       "      <td>-1.978777</td>\n",
       "      <td>0.262235</td>\n",
       "      <td>1.279171</td>\n",
       "      <td>0.507420</td>\n",
       "      <td>1.318909</td>\n",
       "      <td>0.379869</td>\n",
       "      <td>0.962872</td>\n",
       "      <td>0.164126</td>\n",
       "      <td>0.405497</td>\n",
       "    </tr>\n",
       "    <tr>\n",
       "      <th>...</th>\n",
       "      <td>...</td>\n",
       "      <td>...</td>\n",
       "      <td>...</td>\n",
       "      <td>...</td>\n",
       "      <td>...</td>\n",
       "      <td>...</td>\n",
       "      <td>...</td>\n",
       "      <td>...</td>\n",
       "      <td>...</td>\n",
       "      <td>...</td>\n",
       "      <td>...</td>\n",
       "      <td>...</td>\n",
       "      <td>...</td>\n",
       "      <td>...</td>\n",
       "      <td>...</td>\n",
       "      <td>...</td>\n",
       "      <td>...</td>\n",
       "      <td>...</td>\n",
       "    </tr>\n",
       "    <tr>\n",
       "      <th>4999986</th>\n",
       "      <td>-0.339115</td>\n",
       "      <td>-1.024784</td>\n",
       "      <td>0.736309</td>\n",
       "      <td>-0.065743</td>\n",
       "      <td>-1.268792</td>\n",
       "      <td>-1.365250</td>\n",
       "      <td>-0.920987</td>\n",
       "      <td>-1.378906</td>\n",
       "      <td>-1.248063</td>\n",
       "      <td>0.157192</td>\n",
       "      <td>-0.341678</td>\n",
       "      <td>-0.542985</td>\n",
       "      <td>-0.291436</td>\n",
       "      <td>-1.074723</td>\n",
       "      <td>-0.357870</td>\n",
       "      <td>-0.885477</td>\n",
       "      <td>-0.256432</td>\n",
       "      <td>-0.022887</td>\n",
       "    </tr>\n",
       "    <tr>\n",
       "      <th>4999988</th>\n",
       "      <td>0.749568</td>\n",
       "      <td>0.851638</td>\n",
       "      <td>0.125782</td>\n",
       "      <td>-0.204041</td>\n",
       "      <td>0.551300</td>\n",
       "      <td>-0.811171</td>\n",
       "      <td>0.185733</td>\n",
       "      <td>-0.852668</td>\n",
       "      <td>-1.066474</td>\n",
       "      <td>0.328383</td>\n",
       "      <td>0.188064</td>\n",
       "      <td>0.315094</td>\n",
       "      <td>-0.031946</td>\n",
       "      <td>-0.872283</td>\n",
       "      <td>-0.071867</td>\n",
       "      <td>-0.580399</td>\n",
       "      <td>-0.275588</td>\n",
       "      <td>0.329626</td>\n",
       "    </tr>\n",
       "    <tr>\n",
       "      <th>4999991</th>\n",
       "      <td>-0.258532</td>\n",
       "      <td>0.648347</td>\n",
       "      <td>-1.616156</td>\n",
       "      <td>-0.605273</td>\n",
       "      <td>1.662669</td>\n",
       "      <td>-1.243679</td>\n",
       "      <td>-0.710289</td>\n",
       "      <td>0.189760</td>\n",
       "      <td>-0.841952</td>\n",
       "      <td>-0.477309</td>\n",
       "      <td>-0.373259</td>\n",
       "      <td>-0.181777</td>\n",
       "      <td>0.134344</td>\n",
       "      <td>0.897640</td>\n",
       "      <td>-0.476684</td>\n",
       "      <td>0.378604</td>\n",
       "      <td>-0.979630</td>\n",
       "      <td>0.221877</td>\n",
       "    </tr>\n",
       "    <tr>\n",
       "      <th>4999995</th>\n",
       "      <td>-0.436908</td>\n",
       "      <td>-0.961446</td>\n",
       "      <td>-1.486724</td>\n",
       "      <td>-0.459995</td>\n",
       "      <td>0.493202</td>\n",
       "      <td>1.648097</td>\n",
       "      <td>0.426838</td>\n",
       "      <td>0.276799</td>\n",
       "      <td>-0.250404</td>\n",
       "      <td>-1.570542</td>\n",
       "      <td>-0.290010</td>\n",
       "      <td>0.415433</td>\n",
       "      <td>0.616784</td>\n",
       "      <td>2.291575</td>\n",
       "      <td>-0.127990</td>\n",
       "      <td>1.461053</td>\n",
       "      <td>0.374235</td>\n",
       "      <td>0.082039</td>\n",
       "    </tr>\n",
       "    <tr>\n",
       "      <th>4999998</th>\n",
       "      <td>0.493985</td>\n",
       "      <td>-0.833229</td>\n",
       "      <td>-0.559538</td>\n",
       "      <td>-0.184843</td>\n",
       "      <td>-0.689347</td>\n",
       "      <td>-1.428105</td>\n",
       "      <td>1.243675</td>\n",
       "      <td>-0.861499</td>\n",
       "      <td>0.841383</td>\n",
       "      <td>2.822143</td>\n",
       "      <td>0.049445</td>\n",
       "      <td>-0.316551</td>\n",
       "      <td>-0.371455</td>\n",
       "      <td>-1.074723</td>\n",
       "      <td>-0.392824</td>\n",
       "      <td>-0.509593</td>\n",
       "      <td>0.182816</td>\n",
       "      <td>-0.188870</td>\n",
       "    </tr>\n",
       "  </tbody>\n",
       "</table>\n",
       "<p>2287827 rows × 18 columns</p>\n",
       "</div>"
      ],
      "text/plain": [
       "           l_1_pT   l_1_eta   l_1_phi    l_2_pT   l_2_eta   l_2_phi       MET  \\\n",
       "1        0.377740  0.064527 -1.224618 -0.632083 -0.339317  1.672670  2.058436   \n",
       "2       -0.845393 -0.133962 -0.709418 -0.686466 -1.614249 -0.768533 -0.197111   \n",
       "3       -0.908977 -0.975809  0.693706 -0.689226  0.891375 -0.677201  0.616031   \n",
       "4        0.019763 -0.689753 -0.675706  0.451098 -0.693703  0.623035 -0.329467   \n",
       "8        0.822579  0.743319 -0.329986 -0.332932 -0.029265 -1.446551  0.882917   \n",
       "...           ...       ...       ...       ...       ...       ...       ...   \n",
       "4999986 -0.339115 -1.024784  0.736309 -0.065743 -1.268792 -1.365250 -0.920987   \n",
       "4999988  0.749568  0.851638  0.125782 -0.204041  0.551300 -0.811171  0.185733   \n",
       "4999991 -0.258532  0.648347 -1.616156 -0.605273  1.662669 -1.243679 -0.710289   \n",
       "4999995 -0.436908 -0.961446 -1.486724 -0.459995  0.493202  1.648097  0.426838   \n",
       "4999998  0.493985 -0.833229 -0.559538 -0.184843 -0.689347 -1.428105  1.243675   \n",
       "\n",
       "          MET_phi   MET_rel  axial_MET       M_R    M_TR_2         R  \\\n",
       "1       -1.219291 -1.262554   3.691167 -0.136912 -0.700944 -0.575372   \n",
       "2        0.503871  0.555739  -0.515392 -0.656606 -0.327482  0.530234   \n",
       "3        1.532886  1.770751  -1.089292 -0.613503 -0.253784  0.524916   \n",
       "4       -0.381897 -0.686304   1.281472 -0.003594 -0.300777 -0.328738   \n",
       "8        1.450274  1.713602  -1.978777  0.262235  1.279171  0.507420   \n",
       "...           ...       ...        ...       ...       ...       ...   \n",
       "4999986 -1.378906 -1.248063   0.157192 -0.341678 -0.542985 -0.291436   \n",
       "4999988 -0.852668 -1.066474   0.328383  0.188064  0.315094 -0.031946   \n",
       "4999991  0.189760 -0.841952  -0.477309 -0.373259 -0.181777  0.134344   \n",
       "4999995  0.276799 -0.250404  -1.570542 -0.290010  0.415433  0.616784   \n",
       "4999998 -0.861499  0.841383   2.822143  0.049445 -0.316551 -0.371455   \n",
       "\n",
       "              MT2       S_R  M_Delta_R  dPhi_r_b  cos_theta_r1  \n",
       "1       -1.074723 -0.726287  -0.980241  0.306903      0.095024  \n",
       "2        0.949585 -0.571200   0.376778  0.120464     -0.101650  \n",
       "3        0.477191 -0.413482   0.529867  0.477266     -0.191841  \n",
       "4       -1.074723 -0.091540  -1.142167  0.139863     -0.187701  \n",
       "8        1.318909  0.379869   0.962872  0.164126      0.405497  \n",
       "...           ...       ...        ...       ...           ...  \n",
       "4999986 -1.074723 -0.357870  -0.885477 -0.256432     -0.022887  \n",
       "4999988 -0.872283 -0.071867  -0.580399 -0.275588      0.329626  \n",
       "4999991  0.897640 -0.476684   0.378604 -0.979630      0.221877  \n",
       "4999995  2.291575 -0.127990   1.461053  0.374235      0.082039  \n",
       "4999998 -1.074723 -0.392824  -0.509593  0.182816     -0.188870  \n",
       "\n",
       "[2287827 rows x 18 columns]"
      ]
     },
     "execution_count": 83,
     "metadata": {},
     "output_type": "execute_result"
    }
   ],
   "source": [
    "df_sig_0-m_s"
   ]
  },
  {
   "cell_type": "code",
   "execution_count": 85,
   "metadata": {},
   "outputs": [],
   "source": [
    "delta_s=np.matrix(df_sig_0-m_s).transpose()"
   ]
  },
  {
   "cell_type": "code",
   "execution_count": 86,
   "metadata": {},
   "outputs": [
    {
     "data": {
      "text/plain": [
       "(18, 2287827)"
      ]
     },
     "execution_count": 86,
     "metadata": {},
     "output_type": "execute_result"
    }
   ],
   "source": [
    "delta_s.shape"
   ]
  },
  {
   "cell_type": "code",
   "execution_count": 87,
   "metadata": {},
   "outputs": [],
   "source": [
    "S_W_s= delta_s*delta_s.transpose()"
   ]
  },
  {
   "cell_type": "code",
   "execution_count": 88,
   "metadata": {},
   "outputs": [
    {
     "data": {
      "text/plain": [
       "(18, 18)"
      ]
     },
     "execution_count": 88,
     "metadata": {},
     "output_type": "execute_result"
    }
   ],
   "source": [
    "S_W_s.shape"
   ]
  },
  {
   "cell_type": "code",
   "execution_count": 90,
   "metadata": {},
   "outputs": [],
   "source": [
    "delta_b=np.matrix(df_bkg_0-m_b).transpose()\n",
    "S_W_b= delta_b*delta_b.transpose()"
   ]
  },
  {
   "cell_type": "code",
   "execution_count": 91,
   "metadata": {},
   "outputs": [
    {
     "data": {
      "text/plain": [
       "(18, 18)"
      ]
     },
     "execution_count": 91,
     "metadata": {},
     "output_type": "execute_result"
    }
   ],
   "source": [
    "S_W_b.shape"
   ]
  },
  {
   "cell_type": "code",
   "execution_count": 102,
   "metadata": {},
   "outputs": [],
   "source": [
    "S_W=S_W_s-S_W_b"
   ]
  },
  {
   "cell_type": "markdown",
   "metadata": {},
   "source": [
    "Lastly compute:\n",
    "$\\bf{w} = \\bf{S_W}^{-1}(\\bf{m_2}-\\bf{m_1})$"
   ]
  },
  {
   "cell_type": "code",
   "execution_count": 103,
   "metadata": {},
   "outputs": [],
   "source": [
    "S_W_inv = np.linalg.inv(S_W)"
   ]
  },
  {
   "cell_type": "code",
   "execution_count": 104,
   "metadata": {},
   "outputs": [],
   "source": [
    "w = S_W_inv * np.matrix(m_b - m_s).transpose()"
   ]
  },
  {
   "cell_type": "code",
   "execution_count": 105,
   "metadata": {},
   "outputs": [
    {
     "data": {
      "text/plain": [
       "matrix([[-9.25526420e-06],\n",
       "        [ 2.47737618e-09],\n",
       "        [-3.10334483e-07],\n",
       "        [-9.76896948e-06],\n",
       "        [ 1.65352718e-08],\n",
       "        [-3.58541809e-07],\n",
       "        [ 5.97750662e-07],\n",
       "        [-3.23916552e-07],\n",
       "        [-4.70809383e-08],\n",
       "        [-6.97586660e-07],\n",
       "        [ 2.01277402e-05],\n",
       "        [ 1.97182757e-05],\n",
       "        [-2.28187653e-06],\n",
       "        [ 1.97599222e-06],\n",
       "        [-1.97163605e-05],\n",
       "        [-7.41430191e-06],\n",
       "        [ 2.08695678e-06],\n",
       "        [-4.27163873e-05]])"
      ]
     },
     "execution_count": 105,
     "metadata": {},
     "output_type": "execute_result"
    }
   ],
   "source": [
    "w"
   ]
  },
  {
   "cell_type": "code",
   "execution_count": 113,
   "metadata": {},
   "outputs": [],
   "source": [
    "output_s=np.matrix(df_sig_0)*w\n",
    "output_b=np.matrix(df_bkg_0)*w"
   ]
  },
  {
   "cell_type": "code",
   "execution_count": 116,
   "metadata": {},
   "outputs": [
    {
     "data": {
      "text/plain": [
       "<matplotlib.legend.Legend at 0x7fe546062190>"
      ]
     },
     "execution_count": 116,
     "metadata": {},
     "output_type": "execute_result"
    },
    {
     "data": {
      "image/png": "[encoded data removed]",
      "text/plain": [
       "<Figure size 432x288 with 1 Axes>"
      ]
     },
     "metadata": {
      "needs_background": "light"
     },
     "output_type": "display_data"
    }
   ],
   "source": [
    "h_s,bins,_=plt.hist(output_s,label=\"signal\",alpha=0.5,bins=100)\n",
    "h_b,bins,_=plt.hist(output_b,bins=bins,alpha=0.5,label=\"background\")\n",
    "plt.legend()"
   ]
  },
  {
   "cell_type": "code",
   "execution_count": null,
   "metadata": {},
   "outputs": [],
   "source": []
  }
 ],
 "metadata": {
  "kernelspec": {
   "display_name": "Python 3",
   "language": "python",
   "name": "python3"
  },
  "language_info": {
   "codemirror_mode": {
    "name": "ipython",
    "version": 3
   },
   "file_extension": ".py",
   "mimetype": "text/x-python",
   "name": "python",
   "nbconvert_exporter": "python",
   "pygments_lexer": "ipython3",
   "version": "3.8.5"
  }
 },
 "nbformat": 4,
 "nbformat_minor": 4
}
