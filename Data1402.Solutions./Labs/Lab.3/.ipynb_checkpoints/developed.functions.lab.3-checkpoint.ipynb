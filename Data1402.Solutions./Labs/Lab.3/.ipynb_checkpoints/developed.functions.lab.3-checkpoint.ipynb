{
 "cells": [
  {
   "cell_type": "code",
   "execution_count": null,
   "id": "together-uncle",
   "metadata": {},
   "outputs": [],
   "source": [
    "import pandas as pd\n",
    "import numpy as np\n",
    "import matplotlib.pyplot as plt\n",
    "%matplotlib inline"
   ]
  },
  {
   "cell_type": "code",
   "execution_count": 65,
   "id": "mental-injection",
   "metadata": {},
   "outputs": [],
   "source": [
    "VarNames=[\"signal\", \"l_1_pT\", \"l_1_eta\",\"l_1_phi\", \"l_2_pT\", \"l_2_eta\", \"l_2_phi\", \"MET\", \"MET_phi\", \"MET_rel\", \"axial_MET\", \"M_R\", \"M_TR_2\", \"R\", \"MT2\", \"S_R\", \"M_Delta_R\", \"dPhi_r_b\", \"cos_theta_r1\"]\n",
    "RawNames=[\"l_1_pT\", \"l_1_eta\",\"l_1_phi\", \"l_2_pT\", \"l_2_eta\", \"l_2_phi\", \"MET\", \"MET_phi\"]\n",
    "FeatureNames=list(set(VarNames[1:]).difference(RawNames))\n",
    "\n",
    "s_file = \"/home/monicatnm/Lab.Resources/susy-small.csv\"\n",
    "h_file = \"/home/monicatnm/Lab.Resources/higgs-small.csv\"\n",
    "\n",
    "dfs = pd.read_csv(s_file, dtype='float64', names=VarNames)\n",
    "dfh = pd.read_csv(h_file, dtype='float64', names=VarNames)"
   ]
  },
  {
   "cell_type": "code",
   "execution_count": 66,
   "id": "genetic-specification",
   "metadata": {},
   "outputs": [],
   "source": [
    "df_sig_s=dfs[dfs.signal==1]\n",
    "df_bkg_s=dfs[dfs.signal==0]\n",
    "\n",
    "df_sig_h=dfh[dfh.signal==1]\n",
    "df_bkg_h=dfh[dfh.signal==0]"
   ]
  },
  {
   "cell_type": "code",
   "execution_count": null,
   "id": "bearing-longer",
   "metadata": {},
   "outputs": [],
   "source": [
    "# 1.a\n",
    "\n",
    "#SUSY:\n",
    "selection_dict={\"signal\":dfs[\"signal\"]==0.,\"background\":dfs[\"signal\"]==1}\n",
    "\n",
    "columns = dfs.columns[1:6]\n",
    "n_columns=len(columns)\n",
    "plt.figure(figsize=(15,15))\n",
    "\n",
    "plot_i=0\n",
    "for i,x_var_name in enumerate(columns):\n",
    "    for j,y_var_name in enumerate(columns):\n",
    "        plot_i+=1\n",
    "        plt.subplot(n_columns,n_columns,plot_i)\n",
    "        make_legend = plot_i==1\n",
    "        if i==j:\n",
    "            compare_distributions(dfs,x_var_name,\n",
    "                     selection_dict,\n",
    "                     alpha=0.5,\n",
    "                     density=1,\n",
    "                     bins=50,\n",
    "                     )\n",
    "        else:\n",
    "            compare_scatter(dfs,x_var_name,y_var_name,selection_dict,make_legend=make_legend)"
   ]
  },
  {
   "cell_type": "code",
   "execution_count": null,
   "id": "revised-costa",
   "metadata": {},
   "outputs": [],
   "source": []
  }
 ],
 "metadata": {
  "kernelspec": {
   "display_name": "Python 3",
   "language": "python",
   "name": "python3"
  },
  "language_info": {
   "codemirror_mode": {
    "name": "ipython",
    "version": 3
   },
   "file_extension": ".py",
   "mimetype": "text/x-python",
   "name": "python",
   "nbconvert_exporter": "python",
   "pygments_lexer": "ipython3",
   "version": "3.8.5"
  }
 },
 "nbformat": 4,
 "nbformat_minor": 5
}
