{
 "cells": [
  {
   "cell_type": "markdown",
   "metadata": {},
   "source": [
    "# Lab 3\n",
    "\n",
    "We will continue working with the [SUSY](https://archive.ics.uci.edu/ml/datasets/SUSY) and\n",
    "[Higgs](https://archive.ics.uci.edu/ml/datasets/HIGGS) datasets in this lab and building some functions that would be useful to investigate any data. You will be making a lot of plots, separately for Higgs and SUSY datasets. Therefore use three separate notebooks and a python module:\n",
    "\n",
    "* Copy of this lab where you work out the problems and make representative plots testing your code.\n",
    "* A python module where you copy and paste the functions developed in this lab.\n",
    "* Separate notebook containing plots, tables, and comments for\n",
    "    * SUSY Dataset\n",
    "    * Higgs Dataset\n",
    "\n",
    "Make an effort to put in text boxes and organize your output so it is readable and well formatted. The goal of the SUSY/Higgs dataset is to present your analysis of the data, including your observations and motivation for your choices."
   ]
  },
  {
   "cell_type": "markdown",
   "metadata": {},
   "source": [
    "## Correlation\n",
    "\n",
    "### Exercise 1\n",
    "\n",
    "#### Part a\n",
    "Write a function that creates pair plots and use it to compare variables in the SUSY and Higgs samples, separately for low and high-level features. Refer to [Data 1401 Visualization Lecture](https://github.com/UTA-DataScience/DATA1401.2020.Fall/blob/master/Lectures/Lecture.36/Lecture.36.ipynb) for details. Do not use `seaborn`.\n",
    "\n",
    "#### Part b\n",
    "Making these plots can be slow because creating each plot initiates a full loop over the data. Make at least one modification to your function in part a to speed it up. Can you propose a different method of creating histograms that would speed up making such pair plots?\n",
    "\n",
    "#### Part c\n",
    "Which observables appear to be best for separating signal from background?"
   ]
  },
  {
   "cell_type": "markdown",
   "metadata": {},
   "source": [
    "### Exercise 2\n",
    "\n",
    "#### Part a\n",
    "Install [tabulate](https://github.com/astanin/python-tabulate). \n",
    "\n",
    "#### Part b\n",
    "Use numpy to compute the [covariance matrix](https://numpy.org/doc/stable/reference/generated/numpy.cov.html) and [correlation matrix](https://numpy.org/doc/stable/reference/generated/numpy.corrcoef.html) between all observabes, and separately between low and high-level features.\n",
    "\n",
    "#### Part c\n",
    "Use tabulate to create a well formatted table of the covariance and correlation matrices, with nice headings and appropriate significant figures. Embed the table into this notebook.\n",
    "\n",
    "#### Part d\n",
    "Write a function that takes a dataset and appropriate arguments and performs steps b and c.  "
   ]
  },
  {
   "cell_type": "markdown",
   "metadata": {},
   "source": [
    "Hint: Example code for embedding a `tabulate` table into a notebook:"
   ]
  },
  {
   "cell_type": "code",
   "execution_count": 9,
   "metadata": {
    "scrolled": true
   },
   "outputs": [
    {
     "data": {
      "text/html": [
       "<table>\n",
       "<thead>\n",
       "<tr><th>X  </th><th style=\"text-align: right;\">  Y</th><th style=\"text-align: right;\">  Z</th></tr>\n",
       "</thead>\n",
       "<tbody>\n",
       "<tr><td>A  </td><td style=\"text-align: right;\">  1</td><td style=\"text-align: right;\">  2</td></tr>\n",
       "<tr><td>C  </td><td style=\"text-align: right;\">  3</td><td style=\"text-align: right;\">  4</td></tr>\n",
       "<tr><td>D  </td><td style=\"text-align: right;\">  5</td><td style=\"text-align: right;\">  6</td></tr>\n",
       "</tbody>\n",
       "</table>"
      ],
      "text/plain": [
       "<IPython.core.display.HTML object>"
      ]
     },
     "metadata": {},
     "output_type": "display_data"
    }
   ],
   "source": [
    "from IPython.display import HTML, display\n",
    "import tabulate\n",
    "table = [[\"A\",1,2],\n",
    "        [\"C\",3,4],\n",
    "        [\"D\",5,6]]\n",
    "display(HTML(tabulate.tabulate(table, tablefmt='html', headers=[\"X\",\"Y\",\"Z\"])))"
   ]
  },
  {
   "cell_type": "markdown",
   "metadata": {},
   "source": [
    "## Selection\n",
    "\n",
    "### Exercise 3\n",
    "\n",
    "#### Part a\n",
    "By looking at the signal/background distributions for each observable (e.g. $x$) determine which selection criteria would be optimal: \n",
    "\n",
    "1. $x > x_c$\n",
    "2. $x < x_c$\n",
    "3. $|x| > x_c$\n",
    "4. $|x| < x_c$\n",
    "\n",
    "where $x_c$ is value to be determined below.\n",
    "\n",
    "#### Part b\n",
    "Plot the True Positive Rate (TPR) (aka signal efficiency $\\epsilon_S(x_c)$) and False Positive Rate (FPR) (aka background efficiency $\\epsilon_B(x_c)$) as function of $x_c$ for applying the strategy in part a to each observable. \n",
    "\n",
    "#### Part c\n",
    "Assume 3 different scenarios corresponding to different numbers of signal and background events expected in data:\n",
    "\n",
    "1. Expect $N_S=10$, $N_B=100$.\n",
    "1. Expect $N_S=100$, $N_B=1000$.\n",
    "1. Expect $N_S=1000$, $N_B=10000$.\n",
    "1. Expect $N_S=10000$, $N_B=100000$.\n",
    "\n",
    "Plot the significance ($\\sigma_{S'}$) for each observable as function of $x_c$ for each scenario, where \n",
    "\n",
    "$\\sigma_{S'}= \\frac{N'_S}{\\sqrt{N'_S+N'_B}}$\n",
    "\n",
    "and $N'_{S,B} = \\epsilon_{S,B}(x_c) * N_{S,B}$."
   ]
  },
  {
   "cell_type": "markdown",
   "metadata": {},
   "source": [
    "## Cut Flow\n",
    "\n",
    "### Exercise 4\n",
    "\n",
    "#### Part a\n",
    "For each above scenario, choose a subset (minumum 3) of observables to use for selections, and values of $x_c$ based on your significance plots (part 3c). \n",
    "\n",
    "#### Part b\n",
    "Create a \"cut-flow\" table for each scenario where you successively make the selections on each observable and tabulate $\\epsilon_S$, $\\epsilon_B$, $N'_S$, $N'_B$, and $\\sigma_{S'}$.\n",
    "\n",
    "#### Part c\n",
    "In 3c above you computed the significance for each observable assuming to make no other selections on any other observable. If the variables are correlated, then this assumption can lead to non-optimial results when selecting on multiple variables. By looking at the correlation matrices and your answers to 4b, identify where this effect could be most detrimental to the significance. Attempt to correct the issue by applying the selection in one observable and then optimizing (part 3c) for a second observable. What happens if you change the order of your selection (make selection on second and optimize on first)?\n",
    "\n",
    "\n"
   ]
  },
  {
   "cell_type": "code",
   "execution_count": null,
   "metadata": {},
   "outputs": [],
   "source": []
  }
 ],
 "metadata": {
  "kernelspec": {
   "display_name": "Python 3",
   "language": "python",
   "name": "python3"
  },
  "language_info": {
   "codemirror_mode": {
    "name": "ipython",
    "version": 3
   },
   "file_extension": ".py",
   "mimetype": "text/x-python",
   "name": "python",
   "nbconvert_exporter": "python",
   "pygments_lexer": "ipython3",
   "version": "3.8.1"
  }
 },
 "nbformat": 4,
 "nbformat_minor": 4
}
